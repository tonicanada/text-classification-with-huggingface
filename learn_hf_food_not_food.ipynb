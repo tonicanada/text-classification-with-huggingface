{
 "cells": [
  {
   "cell_type": "markdown",
   "id": "89543d37-1e0d-4c60-b94c-9a3409670f78",
   "metadata": {},
   "source": [
    "# Tutorial proyecto de clasificación de texto mediante Hugging Face (2 clases)"
   ]
  },
  {
   "cell_type": "markdown",
   "id": "46d7de98-8123-4149-8878-35ca5d202a36",
   "metadata": {},
   "source": [
    "## ¿Qué vamos a construir?\n",
    "\n",
    "Bienvenido al tutorial del proyecto de clasificación de texto mediante Hugging Face. Este notebook está diseñado para que pueda ser reutilizable para otros casos.\n",
    "En concreto, vamos a construir un modelo que, a partir de una frase en inglés, va a determinar si se trata de comida o no (`food` o `not_food`). Para hacerlo, vamos a partir de un modelo ya existente en Hugging Face Hub, y lo vamos a adaptar a nuestras necesidades. Estos son los pasos que vamos a seguir:\n",
    "1. Datos: Definición del problema y adaptación de los datos\n",
    "2. Modelo: Entrenamiento y evaluación de modelo adecuado para nuestro problema.\n",
    "3. Demo: Vamos a crear una web pública donde cualquier persona podrá usar el modelo."
   ]
  },
  {
   "cell_type": "markdown",
   "id": "9a2c1dec-4a7a-46e5-993b-599dcc9965bc",
   "metadata": {},
   "source": [
    "## ¿Qué ventajas tiene aplicar esta técnica?\n",
    "Utilizar un modelo previamente entrenado y adaptarlo a nuestras necesidades específicas puede ser una estrategia muy beneficiosa. Existen muchos modelos disponibles, por ejemplo, en Hugging Face Hub, y podemos ajustarlos con una pequeña cantidad de datos para que cumplan con nuestras necesidades concretas.\n",
    "\n",
    "Estos modelos suelen ser relativamente ligeros en términos de tamaño, pero mantienen un alto grado de precisión, lo que los hace muy útiles para una amplia variedad de aplicaciones. Al ajustar un modelo, podemos implementarlo de forma eficiente en nuestro equipo local o en un servidor, integrándolo como una parte fundamental de una aplicación más amplia. Esta flexibilidad permite optimizar recursos y reducir significativamente el tiempo de desarrollo."
   ]
  },
  {
   "cell_type": "markdown",
   "id": "bec05865-dcbd-4d0e-8252-735426b2fbef",
   "metadata": {},
   "source": [
    "## Obtención y tratamiento de los datos"
   ]
  },
  {
   "cell_type": "markdown",
   "id": "db4c40eb-46e4-4931-8807-578e76fc1fc0",
   "metadata": {},
   "source": [
    "### Importación de las librerías necesarias"
   ]
  },
  {
   "cell_type": "code",
   "execution_count": 4,
   "id": "adc6e874-4a93-4a52-b745-88359bcc05bd",
   "metadata": {},
   "outputs": [
    {
     "data": {
      "text/plain": [
       "True"
      ]
     },
     "execution_count": 4,
     "metadata": {},
     "output_type": "execute_result"
    }
   ],
   "source": [
    "from dotenv import load_dotenv\n",
    "import os\n",
    "\n",
    "load_dotenv()"
   ]
  },
  {
   "cell_type": "code",
   "execution_count": 5,
   "id": "ee87b136-48d3-433c-a3f6-d42486753fac",
   "metadata": {},
   "outputs": [
    {
     "name": "stderr",
     "output_type": "stream",
     "text": [
      "/home/acm/Coding/ztm_courses/ztm-huggingface/env/lib/python3.11/site-packages/tqdm/auto.py:21: TqdmWarning: IProgress not found. Please update jupyter and ipywidgets. See https://ipywidgets.readthedocs.io/en/stable/user_install.html\n",
      "  from .autonotebook import tqdm as notebook_tqdm\n"
     ]
    },
    {
     "name": "stdout",
     "output_type": "stream",
     "text": [
      "Using transformers version: 4.45.2\n",
      "Using torch version: 2.4.1+cu121\n",
      "Using datasets version: 3.0.1\n"
     ]
    }
   ],
   "source": [
    "# Install dependencies\n",
    "try:\n",
    "    import datasets, evaluate, accelerate, transformers\n",
    "    import gradio as gr\n",
    "except ModuleNotFoundError:\n",
    "    !pip install -U datasets evaluate accelerate gradio transformers\n",
    "    import datasets, evaluate, accelerate\n",
    "    import gradio as gr\n",
    "\n",
    "import random\n",
    "import numpy as np\n",
    "import pandas as pd\n",
    "\n",
    "import torch\n",
    "import transformers\n",
    "\n",
    "print(f\"Using transformers version: {transformers.__version__}\")\n",
    "print(f\"Using torch version: {torch.__version__}\")\n",
    "print(f\"Using datasets version: {datasets.__version__}\")"
   ]
  },
  {
   "cell_type": "markdown",
   "id": "b5cd66b7-7617-4b8c-be67-f8861860ab96",
   "metadata": {},
   "source": [
    "### Obtención de un dataset"
   ]
  },
  {
   "cell_type": "code",
   "execution_count": 6,
   "id": "b69f3d2f-8c65-44a7-bc30-37cef956c9b9",
   "metadata": {},
   "outputs": [],
   "source": [
    "from datasets import load_dataset\n",
    "\n",
    "dataset = load_dataset(path='mrdbourke/learn_hf_food_not_food_image_captions')"
   ]
  },
  {
   "cell_type": "code",
   "execution_count": 7,
   "id": "e4e35d78-24e6-4e9d-acc5-a7f5f8460b58",
   "metadata": {},
   "outputs": [
    {
     "data": {
      "text/plain": [
       "DatasetDict({\n",
       "    train: Dataset({\n",
       "        features: ['text', 'label'],\n",
       "        num_rows: 250\n",
       "    })\n",
       "})"
      ]
     },
     "execution_count": 7,
     "metadata": {},
     "output_type": "execute_result"
    }
   ],
   "source": [
    "dataset"
   ]
  },
  {
   "cell_type": "code",
   "execution_count": 8,
   "id": "d92a9eae-0773-4e53-98fb-a264505ee561",
   "metadata": {},
   "outputs": [
    {
     "data": {
      "text/plain": [
       "{'train': ['text', 'label']}"
      ]
     },
     "execution_count": 8,
     "metadata": {},
     "output_type": "execute_result"
    }
   ],
   "source": [
    "# Cómo son los datos?\n",
    "dataset.column_names"
   ]
  },
  {
   "cell_type": "code",
   "execution_count": 9,
   "id": "17532330-83d2-4fe0-8424-a33874d2bc72",
   "metadata": {},
   "outputs": [
    {
     "data": {
      "text/plain": [
       "Dataset({\n",
       "    features: ['text', 'label'],\n",
       "    num_rows: 250\n",
       "})"
      ]
     },
     "execution_count": 9,
     "metadata": {},
     "output_type": "execute_result"
    }
   ],
   "source": [
    "# Accedemos al set de entrenamiento\n",
    "dataset['train']"
   ]
  },
  {
   "cell_type": "code",
   "execution_count": 10,
   "id": "1672fd50-0a8b-4270-8033-581ca809becb",
   "metadata": {},
   "outputs": [
    {
     "data": {
      "text/plain": [
       "{'text': 'Creamy cauliflower curry with garlic naan, featuring tender cauliflower in a rich sauce with cream and spices, served with garlic naan bread.',\n",
       " 'label': 'food'}"
      ]
     },
     "execution_count": 10,
     "metadata": {},
     "output_type": "execute_result"
    }
   ],
   "source": [
    "dataset['train'][0]"
   ]
  },
  {
   "cell_type": "markdown",
   "id": "2254752a-8a14-46c1-b676-1097f84546d3",
   "metadata": {},
   "source": [
    "### Inspeccionamos ejemplos random"
   ]
  },
  {
   "cell_type": "code",
   "execution_count": 11,
   "id": "8a347671-c2ec-4322-967a-9da207cc34db",
   "metadata": {},
   "outputs": [
    {
     "name": "stdout",
     "output_type": "stream",
     "text": [
      "[INFO] Random samples from dataset:\n",
      "\n",
      "Text: Jicama in a bowl, sprinkled with chili powder and served with a side of lime wedges for a refreshing snack. | Label: food\n",
      "Text: Set of tea towels folded in a kitchen | Label: not_food\n",
      "Text: Creamy spinach and potato curry, featuring fluffy potatoes and nutritious spinach in a rich sauce with cream and garam masala. | Label: food\n",
      "Text: Set of candles lit on a table | Label: not_food\n",
      "Text: Flat screen TV neatly mounted on a wall | Label: not_food\n"
     ]
    }
   ],
   "source": [
    "import random\n",
    "\n",
    "random_indexs = random.sample(range(len(dataset['train'])), 5)\n",
    "random_indexs\n",
    "\n",
    "random_samples = dataset['train'][random_indexs]\n",
    "print(f\"[INFO] Random samples from dataset:\\n\")\n",
    "for text, label in zip(random_samples['text'], random_samples['label']):\n",
    "    print(f\"Text: {text} | Label: {label}\")"
   ]
  },
  {
   "cell_type": "code",
   "execution_count": 12,
   "id": "cb874a1d-14cc-4c0a-ade5-ecead31a437a",
   "metadata": {},
   "outputs": [
    {
     "data": {
      "text/plain": [
       "['food', 'not_food']"
      ]
     },
     "execution_count": 12,
     "metadata": {},
     "output_type": "execute_result"
    }
   ],
   "source": [
    "# Obtenemos los valores únicos de las etiquetas\n",
    "dataset['train'].unique('label')"
   ]
  },
  {
   "cell_type": "code",
   "execution_count": 13,
   "id": "86818bac-a8c8-4663-bfc0-0d79e7f55234",
   "metadata": {},
   "outputs": [
    {
     "data": {
      "text/plain": [
       "Counter({'food': 125, 'not_food': 125})"
      ]
     },
     "execution_count": 13,
     "metadata": {},
     "output_type": "execute_result"
    }
   ],
   "source": [
    "# Contamos la cantidad de frases para cada etiqueta\n",
    "from collections import Counter\n",
    "\n",
    "Counter(dataset['train']['label'])"
   ]
  },
  {
   "cell_type": "code",
   "execution_count": 14,
   "id": "05e96fd2-dd48-49a5-a1c0-9c34c7a4b7f7",
   "metadata": {},
   "outputs": [
    {
     "data": {
      "text/html": [
       "<div>\n",
       "<style scoped>\n",
       "    .dataframe tbody tr th:only-of-type {\n",
       "        vertical-align: middle;\n",
       "    }\n",
       "\n",
       "    .dataframe tbody tr th {\n",
       "        vertical-align: top;\n",
       "    }\n",
       "\n",
       "    .dataframe thead th {\n",
       "        text-align: right;\n",
       "    }\n",
       "</style>\n",
       "<table border=\"1\" class=\"dataframe\">\n",
       "  <thead>\n",
       "    <tr style=\"text-align: right;\">\n",
       "      <th></th>\n",
       "      <th>text</th>\n",
       "      <th>label</th>\n",
       "    </tr>\n",
       "  </thead>\n",
       "  <tbody>\n",
       "    <tr>\n",
       "      <th>55</th>\n",
       "      <td>Uniquely shaped sushi roll, such as a heart or...</td>\n",
       "      <td>food</td>\n",
       "    </tr>\n",
       "    <tr>\n",
       "      <th>120</th>\n",
       "      <td>A slice of pepperoni pizza with a layer of mel...</td>\n",
       "      <td>food</td>\n",
       "    </tr>\n",
       "    <tr>\n",
       "      <th>199</th>\n",
       "      <td>Crunchy sushi roll with a creamy filling, feat...</td>\n",
       "      <td>food</td>\n",
       "    </tr>\n",
       "    <tr>\n",
       "      <th>140</th>\n",
       "      <td>A gourmet pizza with a pesto base, topped with...</td>\n",
       "      <td>food</td>\n",
       "    </tr>\n",
       "    <tr>\n",
       "      <th>161</th>\n",
       "      <td>Set of measuring cups nested in a drawer</td>\n",
       "      <td>not_food</td>\n",
       "    </tr>\n",
       "    <tr>\n",
       "      <th>141</th>\n",
       "      <td>A slice of pizza with a spicy buffalo chicken ...</td>\n",
       "      <td>food</td>\n",
       "    </tr>\n",
       "    <tr>\n",
       "      <th>216</th>\n",
       "      <td>Pizza with a unique crust, such as cauliflower...</td>\n",
       "      <td>food</td>\n",
       "    </tr>\n",
       "  </tbody>\n",
       "</table>\n",
       "</div>"
      ],
      "text/plain": [
       "                                                  text     label\n",
       "55   Uniquely shaped sushi roll, such as a heart or...      food\n",
       "120  A slice of pepperoni pizza with a layer of mel...      food\n",
       "199  Crunchy sushi roll with a creamy filling, feat...      food\n",
       "140  A gourmet pizza with a pesto base, topped with...      food\n",
       "161           Set of measuring cups nested in a drawer  not_food\n",
       "141  A slice of pizza with a spicy buffalo chicken ...      food\n",
       "216  Pizza with a unique crust, such as cauliflower...      food"
      ]
     },
     "execution_count": 14,
     "metadata": {},
     "output_type": "execute_result"
    }
   ],
   "source": [
    "# Convertimos el dataset en un pandas DataFrame y tomamos una muestra\n",
    "food_not_food_df = pd.DataFrame(dataset['train'])\n",
    "food_not_food_df.sample(7)"
   ]
  },
  {
   "cell_type": "code",
   "execution_count": 15,
   "id": "674e9c79-d723-4f20-9de9-282b387c40c0",
   "metadata": {},
   "outputs": [
    {
     "data": {
      "text/plain": [
       "label\n",
       "food        125\n",
       "not_food    125\n",
       "Name: count, dtype: int64"
      ]
     },
     "execution_count": 15,
     "metadata": {},
     "output_type": "execute_result"
    }
   ],
   "source": [
    "food_not_food_df['label'].value_counts()"
   ]
  },
  {
   "cell_type": "markdown",
   "id": "5fea44f1-0398-4d0d-ab67-4c80ddbe297d",
   "metadata": {},
   "source": [
    "### Preparación de los datos para la clasificación de texto\n",
    "\n",
    "Queremos:\n",
    "1. Tokenizar nuestro texto - convertir texto en números (esto aplica para las frases y las etiquetas)\n",
    "2. Crear un train/test split - queremos entrentar nuestro modelo en el training split y evaluarlo en el test split"
   ]
  },
  {
   "cell_type": "code",
   "execution_count": 16,
   "id": "be796f72-0978-4e72-b958-ec290dae501c",
   "metadata": {},
   "outputs": [
    {
     "name": "stdout",
     "output_type": "stream",
     "text": [
      "{0: 'not_food', 1: 'food'}\n",
      "{'not_food': 0, 'food': 1}\n"
     ]
    }
   ],
   "source": [
    "# Crear un mapeo para labels hacia un número id\n",
    "id2label ={0: \"not_food\", 1: \"food\"}\n",
    "label2id = {\"not_food\": 0, \"food\":1}\n",
    "\n",
    "print(id2label)\n",
    "print(label2id)"
   ]
  },
  {
   "cell_type": "code",
   "execution_count": 17,
   "id": "cc56334e-0062-48c9-847e-ae1b473fa83d",
   "metadata": {},
   "outputs": [
    {
     "name": "stdout",
     "output_type": "stream",
     "text": [
      "{0: 'not_food', 1: 'food'}\n"
     ]
    }
   ],
   "source": [
    "# Creando mappings para labels hacia números id de forma automática (especialmente útil cuando se trata de más de 2 clases)\n",
    "id2label = {idx: label for idx, label in enumerate(dataset['train'].unique('label')[::-1])}\n",
    "print(id2label)"
   ]
  },
  {
   "cell_type": "code",
   "execution_count": 18,
   "id": "83607331-a29c-4080-b84c-7ed2b2356b5a",
   "metadata": {},
   "outputs": [
    {
     "name": "stdout",
     "output_type": "stream",
     "text": [
      "{'not_food': 0, 'food': 1}\n"
     ]
    }
   ],
   "source": [
    "label2id = {label: idx for idx,label in id2label.items()}\n",
    "print(label2id)"
   ]
  },
  {
   "cell_type": "code",
   "execution_count": 19,
   "id": "28ea05ae-d0d1-43fc-b1ce-bfcb5007f085",
   "metadata": {},
   "outputs": [
    {
     "data": {
      "text/plain": [
       "{'text': 'This is a sentence about my favourite food: honey', 'label': 1}"
      ]
     },
     "execution_count": 19,
     "metadata": {},
     "output_type": "execute_result"
    }
   ],
   "source": [
    "# Convierte labels en 0 y 1\n",
    "def map_labels_to_number(example):\n",
    "    example['label'] = label2id[example['label']]\n",
    "    return example\n",
    "\n",
    "example_sample = {'text': 'This is a sentence about my favourite food: honey', 'label': 'food'}\n",
    "map_labels_to_number(example_sample)"
   ]
  },
  {
   "cell_type": "code",
   "execution_count": 20,
   "id": "325eb88e-876c-4bbe-9ca0-1b8399adbeff",
   "metadata": {},
   "outputs": [
    {
     "data": {
      "text/plain": [
       "{'text': ['Creamy cauliflower curry with garlic naan, featuring tender cauliflower in a rich sauce with cream and spices, served with garlic naan bread.',\n",
       "  'Set of books stacked on a desk',\n",
       "  'Watching TV together, a family has their dog stretched out on the floor',\n",
       "  'Wooden dresser with a mirror reflecting the room',\n",
       "  'Lawn mower stored in a shed'],\n",
       " 'label': [1, 0, 0, 0, 0]}"
      ]
     },
     "execution_count": 20,
     "metadata": {},
     "output_type": "execute_result"
    }
   ],
   "source": [
    "# Mapea las labels del dataset entero a números  \n",
    "dataset = dataset['train'].map(map_labels_to_number)\n",
    "dataset[:5]"
   ]
  },
  {
   "cell_type": "code",
   "execution_count": 21,
   "id": "ba568fbb-f0af-4c7f-aabd-9295a9fb0510",
   "metadata": {},
   "outputs": [
    {
     "data": {
      "text/plain": [
       "{'text': ['Set of paintbrushes stored in a jar',\n",
       "  'A close-up of a girl feeding her rabbit in the garden',\n",
       "  'A boy giving his dog a bath in the backyard',\n",
       "  'Set of baking sheets stacked in a cabinet',\n",
       "  'Camping tent pitched in a backyard'],\n",
       " 'label': [0, 0, 0, 0, 0]}"
      ]
     },
     "execution_count": 21,
     "metadata": {},
     "output_type": "execute_result"
    }
   ],
   "source": [
    "# Mezclar datos y observar más muestras aleatorias\n",
    "dataset.shuffle()[:5]"
   ]
  },
  {
   "cell_type": "code",
   "execution_count": 22,
   "id": "06215883-e1ac-4cec-be62-0e330f9fe701",
   "metadata": {},
   "outputs": [
    {
     "data": {
      "text/plain": [
       "DatasetDict({\n",
       "    train: Dataset({\n",
       "        features: ['text', 'label'],\n",
       "        num_rows: 200\n",
       "    })\n",
       "    test: Dataset({\n",
       "        features: ['text', 'label'],\n",
       "        num_rows: 50\n",
       "    })\n",
       "})"
      ]
     },
     "execution_count": 22,
     "metadata": {},
     "output_type": "execute_result"
    }
   ],
   "source": [
    "### Dividir el dataset en training y test sets\n",
    "dataset = dataset.train_test_split(test_size=0.2, seed=42)\n",
    "dataset"
   ]
  },
  {
   "cell_type": "code",
   "execution_count": 23,
   "id": "ba02086b-8c6f-4d4e-be25-b8944d613414",
   "metadata": {},
   "outputs": [
    {
     "data": {
      "text/plain": [
       "{'text': 'A pair of slices from a barbecue chicken pizza', 'label': 1}"
      ]
     },
     "execution_count": 23,
     "metadata": {},
     "output_type": "execute_result"
    }
   ],
   "source": [
    "random_idx_train = random.randint(0, len(dataset['train']))\n",
    "random_sample_train = dataset['train'][random_idx_train]\n",
    "random_sample_train"
   ]
  },
  {
   "cell_type": "code",
   "execution_count": 24,
   "id": "6deb0988-8ef2-4684-9e34-fc475138516e",
   "metadata": {},
   "outputs": [
    {
     "data": {
      "text/plain": [
       "{'text': 'Comforting lamb curry bowl, featuring tender lamb slow-cooked in a flavorful sauce with cumin and coriander, garnished with toasted cumin seeds.',\n",
       " 'label': 1}"
      ]
     },
     "execution_count": 24,
     "metadata": {},
     "output_type": "execute_result"
    }
   ],
   "source": [
    "random_idx_test = random.randint(0, len(dataset['test']))\n",
    "random_sample_test = dataset['test'][random_idx_test]\n",
    "random_sample_test"
   ]
  },
  {
   "cell_type": "markdown",
   "id": "2c9c8f11-0354-45a2-9180-5a7dc19650f1",
   "metadata": {},
   "source": [
    "### Tokenizar el texto\n",
    "\n",
    "Consiste básicamente en transformar texto a números. Es importante tomar el mismo `tokenizer` con el que los datos fueron entrenados. En nuestro caso, vamos a usar el tokenizer del modelo `distilbert/distilbert-base-uncased`"
   ]
  },
  {
   "cell_type": "code",
   "execution_count": 25,
   "id": "988a315d-4269-4fa0-a19c-91a99a3a65f8",
   "metadata": {},
   "outputs": [
    {
     "data": {
      "text/plain": [
       "DistilBertTokenizerFast(name_or_path='distilbert/distilbert-base-uncased', vocab_size=30522, model_max_length=512, is_fast=True, padding_side='right', truncation_side='right', special_tokens={'unk_token': '[UNK]', 'sep_token': '[SEP]', 'pad_token': '[PAD]', 'cls_token': '[CLS]', 'mask_token': '[MASK]'}, clean_up_tokenization_spaces=False),  added_tokens_decoder={\n",
       "\t0: AddedToken(\"[PAD]\", rstrip=False, lstrip=False, single_word=False, normalized=False, special=True),\n",
       "\t100: AddedToken(\"[UNK]\", rstrip=False, lstrip=False, single_word=False, normalized=False, special=True),\n",
       "\t101: AddedToken(\"[CLS]\", rstrip=False, lstrip=False, single_word=False, normalized=False, special=True),\n",
       "\t102: AddedToken(\"[SEP]\", rstrip=False, lstrip=False, single_word=False, normalized=False, special=True),\n",
       "\t103: AddedToken(\"[MASK]\", rstrip=False, lstrip=False, single_word=False, normalized=False, special=True),\n",
       "}"
      ]
     },
     "execution_count": 25,
     "metadata": {},
     "output_type": "execute_result"
    }
   ],
   "source": [
    "from transformers import AutoTokenizer\n",
    "\n",
    "tokenizer = AutoTokenizer.from_pretrained(pretrained_model_name_or_path='distilbert/distilbert-base-uncased',\n",
    "                                         use_fast=True) # Use the fast implementation (on by default)\n",
    "tokenizer\n"
   ]
  },
  {
   "cell_type": "code",
   "execution_count": 26,
   "id": "2e82615b-8e17-4535-8e06-152fc20d10b2",
   "metadata": {},
   "outputs": [
    {
     "data": {
      "text/plain": [
       "{'input_ids': [101, 1045, 2293, 10733, 102], 'attention_mask': [1, 1, 1, 1, 1]}"
      ]
     },
     "execution_count": 26,
     "metadata": {},
     "output_type": "execute_result"
    }
   ],
   "source": [
    "# Probamos el tokenizer\n",
    "tokenizer(\"I love pizza\")"
   ]
  },
  {
   "cell_type": "markdown",
   "id": "574bd368-abda-4f78-b528-434f0070d499",
   "metadata": {},
   "source": [
    "* `input_ids` = texto convertido en números\n",
    "* `attention_mask` = indica si hay que prestarle atención al input o no (1=sí prestar atención, 0 = no, no prestar atención)"
   ]
  },
  {
   "cell_type": "code",
   "execution_count": 27,
   "id": "11962402-4e9b-4b27-90f0-4fe26f3029cb",
   "metadata": {},
   "outputs": [
    {
     "data": {
      "text/plain": [
       "{'input_ids': [101, 1045, 2293, 10733, 999, 102], 'attention_mask': [1, 1, 1, 1, 1, 1]}"
      ]
     },
     "execution_count": 27,
     "metadata": {},
     "output_type": "execute_result"
    }
   ],
   "source": [
    "tokenizer('I love pizza!')"
   ]
  },
  {
   "cell_type": "code",
   "execution_count": 29,
   "id": "2c2bf145-6de7-4c8b-87dc-92031942e46b",
   "metadata": {},
   "outputs": [
    {
     "name": "stdout",
     "output_type": "stream",
     "text": [
      "[INFO] Tamaño del vocabulario del tokenizer: 30522 tokens\n",
      "[INFO] Longitud máxima de entrada que puede procesar el tokenizer: 512 tokens\n"
     ]
    }
   ],
   "source": [
    "# Calculamos cuán largo es el vocabulario del tokenizer escogido\n",
    "length_of_tokenizer_vocab = len(tokenizer.vocab)\n",
    "print(f\"[INFO] Tamaño del vocabulario del tokenizer: {length_of_tokenizer_vocab} tokens\")\n",
    "\n",
    "# Obtenemos la longitud máxima de secuencia que el tokenizer puede manejar\n",
    "max_tokenizer_input_sequence_length = tokenizer.model_max_length\n",
    "print(f\"[INFO] Longitud máxima de entrada que puede procesar el tokenizer: {max_tokenizer_input_sequence_length} tokens\")"
   ]
  },
  {
   "cell_type": "code",
   "execution_count": 31,
   "id": "0f751013-ae3c-4948-b409-cfe16af68bef",
   "metadata": {},
   "outputs": [
    {
     "data": {
      "text/plain": [
       "4980"
      ]
     },
     "execution_count": 31,
     "metadata": {},
     "output_type": "execute_result"
    }
   ],
   "source": [
    "# Está \"antonio\" en el vocabulario? Vemos que sí\n",
    "tokenizer.vocab['antonio']"
   ]
  },
  {
   "cell_type": "code",
   "execution_count": 32,
   "id": "4832113a-02ca-4a69-b886-3826f0734740",
   "metadata": {},
   "outputs": [
    {
     "ename": "KeyError",
     "evalue": "'akash'",
     "output_type": "error",
     "traceback": [
      "\u001b[0;31m---------------------------------------------------------------------------\u001b[0m",
      "\u001b[0;31mKeyError\u001b[0m                                  Traceback (most recent call last)",
      "Cell \u001b[0;32mIn[32], line 2\u001b[0m\n\u001b[1;32m      1\u001b[0m \u001b[38;5;66;03m# Está \"akash\" en el vocabularoi? Vemos que no, da error\u001b[39;00m\n\u001b[0;32m----> 2\u001b[0m \u001b[43mtokenizer\u001b[49m\u001b[38;5;241;43m.\u001b[39;49m\u001b[43mvocab\u001b[49m\u001b[43m[\u001b[49m\u001b[38;5;124;43m'\u001b[39;49m\u001b[38;5;124;43makash\u001b[39;49m\u001b[38;5;124;43m'\u001b[39;49m\u001b[43m]\u001b[49m\n",
      "\u001b[0;31mKeyError\u001b[0m: 'akash'"
     ]
    }
   ],
   "source": [
    "# Está \"akash\" en el vocabularoi? Vemos que no, da error\n",
    "tokenizer.vocab['akash']"
   ]
  },
  {
   "cell_type": "code",
   "execution_count": 33,
   "id": "582a153b-e8d5-4103-837b-f90b675b38dd",
   "metadata": {},
   "outputs": [
    {
     "data": {
      "text/plain": [
       "{'input_ids': [101, 9875, 4095, 102], 'attention_mask': [1, 1, 1, 1]}"
      ]
     },
     "execution_count": 33,
     "metadata": {},
     "output_type": "execute_result"
    }
   ],
   "source": [
    "tokenizer('akash')"
   ]
  },
  {
   "cell_type": "markdown",
   "id": "a38037e5-687f-42d5-aa69-faf3b7835d45",
   "metadata": {},
   "source": [
    "Las palabras que no están en el vocabulario del tokenizer igual son procesadas por este. Tal como se puede ver con \"akash\", el tokenizer ha subdividido la palabra en 2."
   ]
  },
  {
   "cell_type": "code",
   "execution_count": 29,
   "id": "c7bfbbfc-e472-4a8e-8749-6248b52f2f11",
   "metadata": {},
   "outputs": [
    {
     "data": {
      "text/plain": [
       "['[CLS]', 'aka', '##sh', '[SEP]']"
      ]
     },
     "execution_count": 29,
     "metadata": {},
     "output_type": "execute_result"
    }
   ],
   "source": [
    "tokenizer.convert_ids_to_tokens(tokenizer('akash').input_ids)"
   ]
  },
  {
   "cell_type": "code",
   "execution_count": 34,
   "id": "cff7cc69-9d4c-4250-8b1b-3d596fe8cf18",
   "metadata": {},
   "outputs": [
    {
     "data": {
      "text/plain": [
       "['[CLS]', '[UNK]', '[SEP]']"
      ]
     },
     "execution_count": 34,
     "metadata": {},
     "output_type": "execute_result"
    }
   ],
   "source": [
    "# Intentamos tokenizar un emoji\n",
    "tokenizer.convert_ids_to_tokens(tokenizer(\"😆\").input_ids)"
   ]
  },
  {
   "cell_type": "code",
   "execution_count": 35,
   "id": "76f82d0c-9fa4-4e8b-8f45-49a45361c103",
   "metadata": {},
   "outputs": [
    {
     "data": {
      "text/plain": [
       "[('!', 999), ('\"', 1000), ('#', 1001), ('##!', 29612), ('##\"', 29613)]"
      ]
     },
     "execution_count": 35,
     "metadata": {},
     "output_type": "execute_result"
    }
   ],
   "source": [
    "# Tomamos los 5 primeros items del vocabulario\n",
    "sorted(tokenizer.vocab.items())[:5]"
   ]
  },
  {
   "cell_type": "code",
   "execution_count": 32,
   "id": "2a836c6c-26ef-4293-873d-d7d771036849",
   "metadata": {},
   "outputs": [
    {
     "data": {
      "text/plain": [
       "[('guarantees', 21586),\n",
       " ('drummond', 19266),\n",
       " ('##watch', 18866),\n",
       " ('regretted', 18991),\n",
       " ('what', 2054)]"
      ]
     },
     "execution_count": 32,
     "metadata": {},
     "output_type": "execute_result"
    }
   ],
   "source": [
    "import random\n",
    "random.sample(sorted(tokenizer.vocab.items()), k=5)"
   ]
  },
  {
   "cell_type": "markdown",
   "id": "20525fda-1e06-4b16-a13a-535e5f88f383",
   "metadata": {},
   "source": [
    "### Creamos una función para tokenizar texto"
   ]
  },
  {
   "cell_type": "code",
   "execution_count": 37,
   "id": "93f9aa50-d937-4459-8b82-6202a255c509",
   "metadata": {},
   "outputs": [],
   "source": [
    "def tokenize_text(ejemplos):\n",
    "    \"\"\"\n",
    "    Tokeniza el texto del ejemplo dado y devuelve el texto tokenizado.\n",
    "    \"\"\"\n",
    "    return tokenizer(ejemplos['text'],\n",
    "                    padding=True,  # rellena las secuencias cortas al tamaño de la secuencia más larga en el lote\n",
    "                    truncation=True)  # trunca las secuencias largas a la longitud máxima que el modelo puede procesar."
   ]
  },
  {
   "cell_type": "code",
   "execution_count": 38,
   "id": "99a52a21-e855-4d56-8b3f-e74b12a70c9b",
   "metadata": {},
   "outputs": [
    {
     "data": {
      "text/plain": [
       "{'input_ids': [101, 1045, 2293, 10733, 102], 'attention_mask': [1, 1, 1, 1, 1]}"
      ]
     },
     "execution_count": 38,
     "metadata": {},
     "output_type": "execute_result"
    }
   ],
   "source": [
    "example_sample_2 = {\"text\": \"I love pizza\", \"label\": 1}\n",
    "\n",
    "# Probamos la función\n",
    "tokenize_text(example_sample_2)"
   ]
  },
  {
   "cell_type": "code",
   "execution_count": 39,
   "id": "c923abf6-9ab6-465e-b761-c5be3f072ee8",
   "metadata": {},
   "outputs": [
    {
     "data": {
      "text/plain": [
       "13000"
      ]
     },
     "execution_count": 39,
     "metadata": {},
     "output_type": "execute_result"
    }
   ],
   "source": [
    "long_text = \"I love pizza \" * 1000\n",
    "long_text\n",
    "len(long_text)"
   ]
  },
  {
   "cell_type": "code",
   "execution_count": 40,
   "id": "9086a263-c417-46eb-a8b2-09186bb1195c",
   "metadata": {},
   "outputs": [
    {
     "data": {
      "text/plain": [
       "512"
      ]
     },
     "execution_count": 40,
     "metadata": {},
     "output_type": "execute_result"
    }
   ],
   "source": [
    "tokenized_long_text = tokenize_text({\"text\": long_text, \"label\": 1})\n",
    "len(tokenized_long_text['input_ids'])"
   ]
  },
  {
   "cell_type": "code",
   "execution_count": 41,
   "id": "44e9a26c-6280-4fd4-a14b-267f3b5831a3",
   "metadata": {},
   "outputs": [
    {
     "data": {
      "text/plain": [
       "DatasetDict({\n",
       "    train: Dataset({\n",
       "        features: ['text', 'label'],\n",
       "        num_rows: 200\n",
       "    })\n",
       "    test: Dataset({\n",
       "        features: ['text', 'label'],\n",
       "        num_rows: 50\n",
       "    })\n",
       "})"
      ]
     },
     "execution_count": 41,
     "metadata": {},
     "output_type": "execute_result"
    }
   ],
   "source": [
    "dataset"
   ]
  },
  {
   "cell_type": "code",
   "execution_count": 42,
   "id": "ae742455-02ae-4df3-8995-7b5e2c81b04c",
   "metadata": {},
   "outputs": [
    {
     "name": "stderr",
     "output_type": "stream",
     "text": [
      "Map: 100%|██████████████████████████| 200/200 [00:00<00:00, 21305.48 examples/s]\n",
      "Map: 100%|█████████████████████████████| 50/50 [00:00<00:00, 9143.49 examples/s]\n"
     ]
    }
   ],
   "source": [
    "# Mapeamos la función tokenizer a todo el dataset\n",
    "tokenized_dataset = dataset.map(function=tokenize_text,\n",
    "                                batched=True, # set batched=True to tokenize across batches of samples at a time\n",
    "                                batch_size=1000)"
   ]
  },
  {
   "cell_type": "code",
   "execution_count": 43,
   "id": "8d95f422-d632-4c7f-a89c-42f30c84a1db",
   "metadata": {},
   "outputs": [
    {
     "name": "stdout",
     "output_type": "stream",
     "text": [
      "[INFO] Key: text\n",
      "Train sample: Set of headphones placed on a desk\n",
      "Test sample: A slice of pepperoni pizza with a layer of melted cheese\n",
      "\n",
      "[INFO] Key: label\n",
      "Train sample: 0\n",
      "Test sample: 1\n",
      "\n",
      "[INFO] Key: input_ids\n",
      "Train sample: [101, 2275, 1997, 2132, 19093, 2872, 2006, 1037, 4624, 102, 0, 0, 0, 0, 0, 0, 0, 0, 0, 0, 0, 0, 0, 0, 0, 0, 0, 0, 0, 0, 0, 0, 0, 0, 0]\n",
      "Test sample: [101, 1037, 14704, 1997, 11565, 10698, 10733, 2007, 1037, 6741, 1997, 12501, 8808, 102, 0, 0, 0, 0, 0, 0, 0, 0, 0, 0, 0, 0, 0, 0, 0, 0, 0, 0, 0, 0, 0, 0]\n",
      "\n",
      "[INFO] Key: attention_mask\n",
      "Train sample: [1, 1, 1, 1, 1, 1, 1, 1, 1, 1, 0, 0, 0, 0, 0, 0, 0, 0, 0, 0, 0, 0, 0, 0, 0, 0, 0, 0, 0, 0, 0, 0, 0, 0, 0]\n",
      "Test sample: [1, 1, 1, 1, 1, 1, 1, 1, 1, 1, 1, 1, 1, 1, 0, 0, 0, 0, 0, 0, 0, 0, 0, 0, 0, 0, 0, 0, 0, 0, 0, 0, 0, 0, 0, 0]\n",
      "\n"
     ]
    }
   ],
   "source": [
    "# Tomamos 2 ejemplos\n",
    "train_tokenized_sample = tokenized_dataset['train'][0]\n",
    "test_tokenized_sample = tokenized_dataset['test'][0]\n",
    "\n",
    "for key in train_tokenized_sample.keys():\n",
    "    print(f\"[INFO] Key: {key}\")\n",
    "    print(f\"Train sample: {train_tokenized_sample[key]}\")\n",
    "    print(f\"Test sample: {test_tokenized_sample[key]}\")\n",
    "    print()"
   ]
  },
  {
   "cell_type": "markdown",
   "id": "fb12b7a0-56f3-45a8-9fbc-4ce9ece1218a",
   "metadata": {},
   "source": [
    "### Puntos claves sobre la tokenización\n",
    "1. Tokenizers = Convertir datos en números\n",
    "2. Hay muchos modelos disponibles con diferentes tokenizers; las herramientas `Auto` de Hugging Face (por ejemplo, `AutoTokenizer`, `AutoProcessor`, `AutoModel`, etc.) ayudan a emparejar tokenizers con los modelos correctos.\n",
    "3. Tokenización se puede hacer en paralelo usando funciones como `map` y en lotes (`batched`)"
   ]
  },
  {
   "cell_type": "markdown",
   "id": "efdbb9b1-64be-408a-927d-c78b4368e099",
   "metadata": {},
   "source": [
    "## Preparación del modelo\n",
    "\n",
    "Antes de configurar el modelo, debemos definir también cómo se medirá cuán buenas han sido las predicciones del modelo."
   ]
  },
  {
   "cell_type": "markdown",
   "id": "68743221-1b77-41ba-8b18-ede891e4be6f",
   "metadata": {},
   "source": [
    "### Seteando una métrica de evaluación\n",
    "\n",
    "Queremos escoger una métrica de evaluación que nos permita tener una idea númerica de cuán bien nuestro modelo está funcionando.\n",
    "\n",
    "Algunas métricas de evaluación comunes son:\n",
    "- \n",
    "\n",
    "Some common evaluation metrics for classification:\n",
    "- Exactitud (Accuracy) (Cuántos ejemplos de cada 100 se clasificaron bien?)\n",
    "- Precisión (Precision)\n",
    "- Sensibilidad o Exhaustividad (Recall)\n",
    "- F1 Score\n",
    "\n",
    "La métrica de evaluación es importante porque en algunos proyectos puede haber algún mínimo que cumplir\n",
    "\n",
    "Algun formas para encontrar métricas de evaluación:\n",
    "- Scikit evaluation\n",
    "- Hugging Face evaluate"
   ]
  },
  {
   "cell_type": "code",
   "execution_count": 45,
   "id": "4f42ff83-7953-440a-8800-cacc2ae76d30",
   "metadata": {},
   "outputs": [
    {
     "name": "stderr",
     "output_type": "stream",
     "text": [
      "huggingface/tokenizers: The current process just got forked, after parallelism has already been used. Disabling parallelism to avoid deadlocks...\n",
      "To disable this warning, you can either:\n",
      "\t- Avoid using `tokenizers` before the fork if possible\n",
      "\t- Explicitly set the environment variable TOKENIZERS_PARALLELISM=(true | false)\n"
     ]
    },
    {
     "name": "stdout",
     "output_type": "stream",
     "text": [
      "Requirement already satisfied: scikit-learn in ./env/lib/python3.11/site-packages (1.5.2)\n",
      "Requirement already satisfied: numpy>=1.19.5 in ./env/lib/python3.11/site-packages (from scikit-learn) (2.1.2)\n",
      "Requirement already satisfied: scipy>=1.6.0 in ./env/lib/python3.11/site-packages (from scikit-learn) (1.14.1)\n",
      "Requirement already satisfied: joblib>=1.2.0 in ./env/lib/python3.11/site-packages (from scikit-learn) (1.4.2)\n",
      "Requirement already satisfied: threadpoolctl>=3.1.0 in ./env/lib/python3.11/site-packages (from scikit-learn) (3.5.0)\n",
      "\n",
      "\u001b[1m[\u001b[0m\u001b[34;49mnotice\u001b[0m\u001b[1;39;49m]\u001b[0m\u001b[39;49m A new release of pip is available: \u001b[0m\u001b[31;49m23.2.1\u001b[0m\u001b[39;49m -> \u001b[0m\u001b[32;49m24.3.1\u001b[0m\n",
      "\u001b[1m[\u001b[0m\u001b[34;49mnotice\u001b[0m\u001b[1;39;49m]\u001b[0m\u001b[39;49m To update, run: \u001b[0m\u001b[32;49mpip install --upgrade pip\u001b[0m\n"
     ]
    }
   ],
   "source": [
    "!pip install scikit-learn"
   ]
  },
  {
   "cell_type": "code",
   "execution_count": 58,
   "id": "33849724-0719-48bf-a4f9-b97d703c705c",
   "metadata": {},
   "outputs": [],
   "source": [
    "import evaluate\n",
    "import numpy as np\n",
    "from typing import Tuple\n",
    "\n",
    "accuracy_metric = evaluate.load('accuracy')\n",
    "\n",
    "def compute_accuracy(predictions_and_labels: Tuple[np.array, np.array]):\n",
    "    \"\"\"\n",
    "    Computes the accuracy of a model by comparing the predictions and labels.\n",
    "    \"\"\"\n",
    "    predictions, labels = predictions_and_labels\n",
    "\n",
    "    if len(predictions.shape) >= 2:\n",
    "        # need to get the maximum value from the model output (the index) as this is the \"most likely\" label according to the model\n",
    "        predictions = np.argmax(predictions, axis=1)\n",
    "\n",
    "    return accuracy_metric.compute(predictions=predictions, references=labels)"
   ]
  },
  {
   "cell_type": "code",
   "execution_count": 48,
   "id": "58d6f673-a54c-436e-a41a-d310b2596c38",
   "metadata": {},
   "outputs": [
    {
     "name": "stdout",
     "output_type": "stream",
     "text": [
      "Accuracy when all predictions are correct: {'accuracy': 1.0}\n",
      "Accuracy when all one prediction is correct: {'accuracy': 0.9}\n"
     ]
    }
   ],
   "source": [
    "# Ejemplo de predicciones y de la métrica de exactitud\n",
    "example_preds_all_correct = np.array([0,0,0,0,0,0,0,0,0,0])\n",
    "example_preds_one_incorrect = np.array([0,0,0,0,1,0,0,0,0,0])\n",
    "example_labels = np.array([0,0,0,0,0,0,0,0,0,0])\n",
    "\n",
    "# Test the function\n",
    "print(f\"Accuracy when all predictions are correct: {compute_accuracy((example_preds_all_correct, example_labels))}\")\n",
    "print(f\"Accuracy when all one prediction is correct: {compute_accuracy((example_preds_one_incorrect, example_labels))}\")"
   ]
  },
  {
   "cell_type": "markdown",
   "id": "1a029a7d-dff6-458d-9ab2-1cd8892f43f0",
   "metadata": {},
   "source": [
    "### Seteamos un modelo para el entrenamiento"
   ]
  },
  {
   "cell_type": "markdown",
   "id": "92665719-bbcb-4e24-80a8-2523ca933b81",
   "metadata": {},
   "source": [
    "Flujo de trabajo:\n",
    "1. Crear y preprocesar los datos (hecho)\n",
    "2. Definir el modelo que nos gustaría usar para nuestro problema (huggingface/models) o consultar las \"guías de tareas\" en la documentación de HF Transformers\n",
    "3. Definir los argumentos de entrenamiento para entrenar nuestro modelo `transformers.TrainingArguments`\n",
    "4. Pasar los `TrainingArguments` a una instancia de `transformer.Trainer`\n",
    "5. Entrenar el modelo llamando a `Trainer.train()`\n",
    "6. Guardar nuestro modelo (en nuestra máquina local o en el Hugging Face Hub)\n",
    "7. Evaluar el modelo entrenado realizando y examinando predicciones sobre los datos de prueba\n",
    "8. Convertir el modelo en una demostración compartible"
   ]
  },
  {
   "cell_type": "code",
   "execution_count": 49,
   "id": "23079802-848b-4baa-a88f-3df814401821",
   "metadata": {},
   "outputs": [
    {
     "name": "stderr",
     "output_type": "stream",
     "text": [
      "Some weights of DistilBertForSequenceClassification were not initialized from the model checkpoint at distilbert/distilbert-base-uncased and are newly initialized: ['classifier.bias', 'classifier.weight', 'pre_classifier.bias', 'pre_classifier.weight']\n",
      "You should probably TRAIN this model on a down-stream task to be able to use it for predictions and inference.\n"
     ]
    }
   ],
   "source": [
    "from transformers import AutoModelForSequenceClassification\n",
    "\n",
    "model = AutoModelForSequenceClassification.from_pretrained(\n",
    "    pretrained_model_name_or_path = 'distilbert/distilbert-base-uncased',\n",
    "    num_labels=2, # Classify into food, not food\n",
    "    id2label=id2label,\n",
    "    label2id=label2id\n",
    ")"
   ]
  },
  {
   "cell_type": "code",
   "execution_count": 50,
   "id": "4ea622f0-d46a-44b8-879f-e9ef8cc20252",
   "metadata": {},
   "outputs": [
    {
     "data": {
      "text/plain": [
       "DistilBertForSequenceClassification(\n",
       "  (distilbert): DistilBertModel(\n",
       "    (embeddings): Embeddings(\n",
       "      (word_embeddings): Embedding(30522, 768, padding_idx=0)\n",
       "      (position_embeddings): Embedding(512, 768)\n",
       "      (LayerNorm): LayerNorm((768,), eps=1e-12, elementwise_affine=True)\n",
       "      (dropout): Dropout(p=0.1, inplace=False)\n",
       "    )\n",
       "    (transformer): Transformer(\n",
       "      (layer): ModuleList(\n",
       "        (0-5): 6 x TransformerBlock(\n",
       "          (attention): MultiHeadSelfAttention(\n",
       "            (dropout): Dropout(p=0.1, inplace=False)\n",
       "            (q_lin): Linear(in_features=768, out_features=768, bias=True)\n",
       "            (k_lin): Linear(in_features=768, out_features=768, bias=True)\n",
       "            (v_lin): Linear(in_features=768, out_features=768, bias=True)\n",
       "            (out_lin): Linear(in_features=768, out_features=768, bias=True)\n",
       "          )\n",
       "          (sa_layer_norm): LayerNorm((768,), eps=1e-12, elementwise_affine=True)\n",
       "          (ffn): FFN(\n",
       "            (dropout): Dropout(p=0.1, inplace=False)\n",
       "            (lin1): Linear(in_features=768, out_features=3072, bias=True)\n",
       "            (lin2): Linear(in_features=3072, out_features=768, bias=True)\n",
       "            (activation): GELUActivation()\n",
       "          )\n",
       "          (output_layer_norm): LayerNorm((768,), eps=1e-12, elementwise_affine=True)\n",
       "        )\n",
       "      )\n",
       "    )\n",
       "  )\n",
       "  (pre_classifier): Linear(in_features=768, out_features=768, bias=True)\n",
       "  (classifier): Linear(in_features=768, out_features=2, bias=True)\n",
       "  (dropout): Dropout(p=0.2, inplace=False)\n",
       ")"
      ]
     },
     "execution_count": 50,
     "metadata": {},
     "output_type": "execute_result"
    }
   ],
   "source": [
    "model"
   ]
  },
  {
   "cell_type": "markdown",
   "id": "902f19a7-9457-40af-8fc5-e4b8a0c672c1",
   "metadata": {},
   "source": [
    "Nuestro modelo se compone de las siguientes partes:\n",
    "1. `embeddings` - los embeddings son una forma de representación aprendida de los tokens. Así que, si los tokens son un mapeo directo de token a número, los embeddings son una representación vectorial aprendida.\n",
    "2. `transformer` - la columna vertebral de nuestra arquitectura de modelo, que ha descubierto patrones/relaciones en los embeddings.\n",
    "3. `classifier` - necesitamos personalizar esta capa para adaptarla a nuestro problema."
   ]
  },
  {
   "cell_type": "code",
   "execution_count": 51,
   "id": "45a95bc8-188d-47f8-97ae-0aa0ad9f79fa",
   "metadata": {},
   "outputs": [
    {
     "data": {
      "text/plain": [
       "{'text': 'Set of headphones placed on a desk',\n",
       " 'label': 0,\n",
       " 'input_ids': [101,\n",
       "  2275,\n",
       "  1997,\n",
       "  2132,\n",
       "  19093,\n",
       "  2872,\n",
       "  2006,\n",
       "  1037,\n",
       "  4624,\n",
       "  102,\n",
       "  0,\n",
       "  0,\n",
       "  0,\n",
       "  0,\n",
       "  0,\n",
       "  0,\n",
       "  0,\n",
       "  0,\n",
       "  0,\n",
       "  0,\n",
       "  0,\n",
       "  0,\n",
       "  0,\n",
       "  0,\n",
       "  0,\n",
       "  0,\n",
       "  0,\n",
       "  0,\n",
       "  0,\n",
       "  0,\n",
       "  0,\n",
       "  0,\n",
       "  0,\n",
       "  0,\n",
       "  0],\n",
       " 'attention_mask': [1,\n",
       "  1,\n",
       "  1,\n",
       "  1,\n",
       "  1,\n",
       "  1,\n",
       "  1,\n",
       "  1,\n",
       "  1,\n",
       "  1,\n",
       "  0,\n",
       "  0,\n",
       "  0,\n",
       "  0,\n",
       "  0,\n",
       "  0,\n",
       "  0,\n",
       "  0,\n",
       "  0,\n",
       "  0,\n",
       "  0,\n",
       "  0,\n",
       "  0,\n",
       "  0,\n",
       "  0,\n",
       "  0,\n",
       "  0,\n",
       "  0,\n",
       "  0,\n",
       "  0,\n",
       "  0,\n",
       "  0,\n",
       "  0,\n",
       "  0,\n",
       "  0]}"
      ]
     },
     "execution_count": 51,
     "metadata": {},
     "output_type": "execute_result"
    }
   ],
   "source": [
    "tokenized_dataset['train'][0]"
   ]
  },
  {
   "cell_type": "markdown",
   "id": "e652caae-7446-4d50-a50f-23345ea97158",
   "metadata": {},
   "source": [
    "Nota: Si obtienes errores de entrada al pasar una muestra a un modelo, asegúrate de que la muestra que le pasas al modelo esté en el mismo formato en el que fue entrenado. Por ejemplo, si tu modelo usó un tokenizer específico, asegúrate de tokenizar tu texto antes de pasarlo al modelo."
   ]
  },
  {
   "cell_type": "code",
   "execution_count": 52,
   "id": "7f6733fe-f846-441c-a578-87a2e9148ebe",
   "metadata": {},
   "outputs": [
    {
     "ename": "AttributeError",
     "evalue": "'list' object has no attribute 'size'",
     "output_type": "error",
     "traceback": [
      "\u001b[0;31m---------------------------------------------------------------------------\u001b[0m",
      "\u001b[0;31mAttributeError\u001b[0m                            Traceback (most recent call last)",
      "Cell \u001b[0;32mIn[52], line 1\u001b[0m\n\u001b[0;32m----> 1\u001b[0m \u001b[43mmodel\u001b[49m\u001b[43m(\u001b[49m\u001b[43minput_ids\u001b[49m\u001b[38;5;241;43m=\u001b[39;49m\u001b[43mtokenized_dataset\u001b[49m\u001b[43m[\u001b[49m\u001b[38;5;124;43m'\u001b[39;49m\u001b[38;5;124;43mtrain\u001b[39;49m\u001b[38;5;124;43m'\u001b[39;49m\u001b[43m]\u001b[49m\u001b[43m[\u001b[49m\u001b[38;5;241;43m0\u001b[39;49m\u001b[43m]\u001b[49m\u001b[43m[\u001b[49m\u001b[38;5;124;43m'\u001b[39;49m\u001b[38;5;124;43minput_ids\u001b[39;49m\u001b[38;5;124;43m'\u001b[39;49m\u001b[43m]\u001b[49m\u001b[43m,\u001b[49m\n\u001b[1;32m      2\u001b[0m \u001b[43m     \u001b[49m\u001b[43mattention_mask\u001b[49m\u001b[38;5;241;43m=\u001b[39;49m\u001b[43mtokenized_dataset\u001b[49m\u001b[43m[\u001b[49m\u001b[38;5;124;43m'\u001b[39;49m\u001b[38;5;124;43mtrain\u001b[39;49m\u001b[38;5;124;43m'\u001b[39;49m\u001b[43m]\u001b[49m\u001b[43m[\u001b[49m\u001b[38;5;241;43m0\u001b[39;49m\u001b[43m]\u001b[49m\u001b[43m[\u001b[49m\u001b[38;5;124;43m'\u001b[39;49m\u001b[38;5;124;43mattention_mask\u001b[39;49m\u001b[38;5;124;43m'\u001b[39;49m\u001b[43m]\u001b[49m\u001b[43m)\u001b[49m\n",
      "File \u001b[0;32m~/Coding/ztm_courses/ztm-huggingface/env/lib/python3.11/site-packages/torch/nn/modules/module.py:1553\u001b[0m, in \u001b[0;36mModule._wrapped_call_impl\u001b[0;34m(self, *args, **kwargs)\u001b[0m\n\u001b[1;32m   1551\u001b[0m     \u001b[38;5;28;01mreturn\u001b[39;00m \u001b[38;5;28mself\u001b[39m\u001b[38;5;241m.\u001b[39m_compiled_call_impl(\u001b[38;5;241m*\u001b[39margs, \u001b[38;5;241m*\u001b[39m\u001b[38;5;241m*\u001b[39mkwargs)  \u001b[38;5;66;03m# type: ignore[misc]\u001b[39;00m\n\u001b[1;32m   1552\u001b[0m \u001b[38;5;28;01melse\u001b[39;00m:\n\u001b[0;32m-> 1553\u001b[0m     \u001b[38;5;28;01mreturn\u001b[39;00m \u001b[38;5;28;43mself\u001b[39;49m\u001b[38;5;241;43m.\u001b[39;49m\u001b[43m_call_impl\u001b[49m\u001b[43m(\u001b[49m\u001b[38;5;241;43m*\u001b[39;49m\u001b[43margs\u001b[49m\u001b[43m,\u001b[49m\u001b[43m \u001b[49m\u001b[38;5;241;43m*\u001b[39;49m\u001b[38;5;241;43m*\u001b[39;49m\u001b[43mkwargs\u001b[49m\u001b[43m)\u001b[49m\n",
      "File \u001b[0;32m~/Coding/ztm_courses/ztm-huggingface/env/lib/python3.11/site-packages/torch/nn/modules/module.py:1562\u001b[0m, in \u001b[0;36mModule._call_impl\u001b[0;34m(self, *args, **kwargs)\u001b[0m\n\u001b[1;32m   1557\u001b[0m \u001b[38;5;66;03m# If we don't have any hooks, we want to skip the rest of the logic in\u001b[39;00m\n\u001b[1;32m   1558\u001b[0m \u001b[38;5;66;03m# this function, and just call forward.\u001b[39;00m\n\u001b[1;32m   1559\u001b[0m \u001b[38;5;28;01mif\u001b[39;00m \u001b[38;5;129;01mnot\u001b[39;00m (\u001b[38;5;28mself\u001b[39m\u001b[38;5;241m.\u001b[39m_backward_hooks \u001b[38;5;129;01mor\u001b[39;00m \u001b[38;5;28mself\u001b[39m\u001b[38;5;241m.\u001b[39m_backward_pre_hooks \u001b[38;5;129;01mor\u001b[39;00m \u001b[38;5;28mself\u001b[39m\u001b[38;5;241m.\u001b[39m_forward_hooks \u001b[38;5;129;01mor\u001b[39;00m \u001b[38;5;28mself\u001b[39m\u001b[38;5;241m.\u001b[39m_forward_pre_hooks\n\u001b[1;32m   1560\u001b[0m         \u001b[38;5;129;01mor\u001b[39;00m _global_backward_pre_hooks \u001b[38;5;129;01mor\u001b[39;00m _global_backward_hooks\n\u001b[1;32m   1561\u001b[0m         \u001b[38;5;129;01mor\u001b[39;00m _global_forward_hooks \u001b[38;5;129;01mor\u001b[39;00m _global_forward_pre_hooks):\n\u001b[0;32m-> 1562\u001b[0m     \u001b[38;5;28;01mreturn\u001b[39;00m \u001b[43mforward_call\u001b[49m\u001b[43m(\u001b[49m\u001b[38;5;241;43m*\u001b[39;49m\u001b[43margs\u001b[49m\u001b[43m,\u001b[49m\u001b[43m \u001b[49m\u001b[38;5;241;43m*\u001b[39;49m\u001b[38;5;241;43m*\u001b[39;49m\u001b[43mkwargs\u001b[49m\u001b[43m)\u001b[49m\n\u001b[1;32m   1564\u001b[0m \u001b[38;5;28;01mtry\u001b[39;00m:\n\u001b[1;32m   1565\u001b[0m     result \u001b[38;5;241m=\u001b[39m \u001b[38;5;28;01mNone\u001b[39;00m\n",
      "File \u001b[0;32m~/Coding/ztm_courses/ztm-huggingface/env/lib/python3.11/site-packages/transformers/models/distilbert/modeling_distilbert.py:883\u001b[0m, in \u001b[0;36mDistilBertForSequenceClassification.forward\u001b[0;34m(self, input_ids, attention_mask, head_mask, inputs_embeds, labels, output_attentions, output_hidden_states, return_dict)\u001b[0m\n\u001b[1;32m    875\u001b[0m \u001b[38;5;250m\u001b[39m\u001b[38;5;124mr\u001b[39m\u001b[38;5;124;03m\"\"\"\u001b[39;00m\n\u001b[1;32m    876\u001b[0m \u001b[38;5;124;03mlabels (`torch.LongTensor` of shape `(batch_size,)`, *optional*):\u001b[39;00m\n\u001b[1;32m    877\u001b[0m \u001b[38;5;124;03m    Labels for computing the sequence classification/regression loss. Indices should be in `[0, ...,\u001b[39;00m\n\u001b[1;32m    878\u001b[0m \u001b[38;5;124;03m    config.num_labels - 1]`. If `config.num_labels == 1` a regression loss is computed (Mean-Square loss), If\u001b[39;00m\n\u001b[1;32m    879\u001b[0m \u001b[38;5;124;03m    `config.num_labels > 1` a classification loss is computed (Cross-Entropy).\u001b[39;00m\n\u001b[1;32m    880\u001b[0m \u001b[38;5;124;03m\"\"\"\u001b[39;00m\n\u001b[1;32m    881\u001b[0m return_dict \u001b[38;5;241m=\u001b[39m return_dict \u001b[38;5;28;01mif\u001b[39;00m return_dict \u001b[38;5;129;01mis\u001b[39;00m \u001b[38;5;129;01mnot\u001b[39;00m \u001b[38;5;28;01mNone\u001b[39;00m \u001b[38;5;28;01melse\u001b[39;00m \u001b[38;5;28mself\u001b[39m\u001b[38;5;241m.\u001b[39mconfig\u001b[38;5;241m.\u001b[39muse_return_dict\n\u001b[0;32m--> 883\u001b[0m distilbert_output \u001b[38;5;241m=\u001b[39m \u001b[38;5;28;43mself\u001b[39;49m\u001b[38;5;241;43m.\u001b[39;49m\u001b[43mdistilbert\u001b[49m\u001b[43m(\u001b[49m\n\u001b[1;32m    884\u001b[0m \u001b[43m    \u001b[49m\u001b[43minput_ids\u001b[49m\u001b[38;5;241;43m=\u001b[39;49m\u001b[43minput_ids\u001b[49m\u001b[43m,\u001b[49m\n\u001b[1;32m    885\u001b[0m \u001b[43m    \u001b[49m\u001b[43mattention_mask\u001b[49m\u001b[38;5;241;43m=\u001b[39;49m\u001b[43mattention_mask\u001b[49m\u001b[43m,\u001b[49m\n\u001b[1;32m    886\u001b[0m \u001b[43m    \u001b[49m\u001b[43mhead_mask\u001b[49m\u001b[38;5;241;43m=\u001b[39;49m\u001b[43mhead_mask\u001b[49m\u001b[43m,\u001b[49m\n\u001b[1;32m    887\u001b[0m \u001b[43m    \u001b[49m\u001b[43minputs_embeds\u001b[49m\u001b[38;5;241;43m=\u001b[39;49m\u001b[43minputs_embeds\u001b[49m\u001b[43m,\u001b[49m\n\u001b[1;32m    888\u001b[0m \u001b[43m    \u001b[49m\u001b[43moutput_attentions\u001b[49m\u001b[38;5;241;43m=\u001b[39;49m\u001b[43moutput_attentions\u001b[49m\u001b[43m,\u001b[49m\n\u001b[1;32m    889\u001b[0m \u001b[43m    \u001b[49m\u001b[43moutput_hidden_states\u001b[49m\u001b[38;5;241;43m=\u001b[39;49m\u001b[43moutput_hidden_states\u001b[49m\u001b[43m,\u001b[49m\n\u001b[1;32m    890\u001b[0m \u001b[43m    \u001b[49m\u001b[43mreturn_dict\u001b[49m\u001b[38;5;241;43m=\u001b[39;49m\u001b[43mreturn_dict\u001b[49m\u001b[43m,\u001b[49m\n\u001b[1;32m    891\u001b[0m \u001b[43m\u001b[49m\u001b[43m)\u001b[49m\n\u001b[1;32m    892\u001b[0m hidden_state \u001b[38;5;241m=\u001b[39m distilbert_output[\u001b[38;5;241m0\u001b[39m]  \u001b[38;5;66;03m# (bs, seq_len, dim)\u001b[39;00m\n\u001b[1;32m    893\u001b[0m pooled_output \u001b[38;5;241m=\u001b[39m hidden_state[:, \u001b[38;5;241m0\u001b[39m]  \u001b[38;5;66;03m# (bs, dim)\u001b[39;00m\n",
      "File \u001b[0;32m~/Coding/ztm_courses/ztm-huggingface/env/lib/python3.11/site-packages/torch/nn/modules/module.py:1553\u001b[0m, in \u001b[0;36mModule._wrapped_call_impl\u001b[0;34m(self, *args, **kwargs)\u001b[0m\n\u001b[1;32m   1551\u001b[0m     \u001b[38;5;28;01mreturn\u001b[39;00m \u001b[38;5;28mself\u001b[39m\u001b[38;5;241m.\u001b[39m_compiled_call_impl(\u001b[38;5;241m*\u001b[39margs, \u001b[38;5;241m*\u001b[39m\u001b[38;5;241m*\u001b[39mkwargs)  \u001b[38;5;66;03m# type: ignore[misc]\u001b[39;00m\n\u001b[1;32m   1552\u001b[0m \u001b[38;5;28;01melse\u001b[39;00m:\n\u001b[0;32m-> 1553\u001b[0m     \u001b[38;5;28;01mreturn\u001b[39;00m \u001b[38;5;28;43mself\u001b[39;49m\u001b[38;5;241;43m.\u001b[39;49m\u001b[43m_call_impl\u001b[49m\u001b[43m(\u001b[49m\u001b[38;5;241;43m*\u001b[39;49m\u001b[43margs\u001b[49m\u001b[43m,\u001b[49m\u001b[43m \u001b[49m\u001b[38;5;241;43m*\u001b[39;49m\u001b[38;5;241;43m*\u001b[39;49m\u001b[43mkwargs\u001b[49m\u001b[43m)\u001b[49m\n",
      "File \u001b[0;32m~/Coding/ztm_courses/ztm-huggingface/env/lib/python3.11/site-packages/torch/nn/modules/module.py:1562\u001b[0m, in \u001b[0;36mModule._call_impl\u001b[0;34m(self, *args, **kwargs)\u001b[0m\n\u001b[1;32m   1557\u001b[0m \u001b[38;5;66;03m# If we don't have any hooks, we want to skip the rest of the logic in\u001b[39;00m\n\u001b[1;32m   1558\u001b[0m \u001b[38;5;66;03m# this function, and just call forward.\u001b[39;00m\n\u001b[1;32m   1559\u001b[0m \u001b[38;5;28;01mif\u001b[39;00m \u001b[38;5;129;01mnot\u001b[39;00m (\u001b[38;5;28mself\u001b[39m\u001b[38;5;241m.\u001b[39m_backward_hooks \u001b[38;5;129;01mor\u001b[39;00m \u001b[38;5;28mself\u001b[39m\u001b[38;5;241m.\u001b[39m_backward_pre_hooks \u001b[38;5;129;01mor\u001b[39;00m \u001b[38;5;28mself\u001b[39m\u001b[38;5;241m.\u001b[39m_forward_hooks \u001b[38;5;129;01mor\u001b[39;00m \u001b[38;5;28mself\u001b[39m\u001b[38;5;241m.\u001b[39m_forward_pre_hooks\n\u001b[1;32m   1560\u001b[0m         \u001b[38;5;129;01mor\u001b[39;00m _global_backward_pre_hooks \u001b[38;5;129;01mor\u001b[39;00m _global_backward_hooks\n\u001b[1;32m   1561\u001b[0m         \u001b[38;5;129;01mor\u001b[39;00m _global_forward_hooks \u001b[38;5;129;01mor\u001b[39;00m _global_forward_pre_hooks):\n\u001b[0;32m-> 1562\u001b[0m     \u001b[38;5;28;01mreturn\u001b[39;00m \u001b[43mforward_call\u001b[49m\u001b[43m(\u001b[49m\u001b[38;5;241;43m*\u001b[39;49m\u001b[43margs\u001b[49m\u001b[43m,\u001b[49m\u001b[43m \u001b[49m\u001b[38;5;241;43m*\u001b[39;49m\u001b[38;5;241;43m*\u001b[39;49m\u001b[43mkwargs\u001b[49m\u001b[43m)\u001b[49m\n\u001b[1;32m   1564\u001b[0m \u001b[38;5;28;01mtry\u001b[39;00m:\n\u001b[1;32m   1565\u001b[0m     result \u001b[38;5;241m=\u001b[39m \u001b[38;5;28;01mNone\u001b[39;00m\n",
      "File \u001b[0;32m~/Coding/ztm_courses/ztm-huggingface/env/lib/python3.11/site-packages/transformers/models/distilbert/modeling_distilbert.py:684\u001b[0m, in \u001b[0;36mDistilBertModel.forward\u001b[0;34m(self, input_ids, attention_mask, head_mask, inputs_embeds, output_attentions, output_hidden_states, return_dict)\u001b[0m\n\u001b[1;32m    682\u001b[0m \u001b[38;5;28;01melif\u001b[39;00m input_ids \u001b[38;5;129;01mis\u001b[39;00m \u001b[38;5;129;01mnot\u001b[39;00m \u001b[38;5;28;01mNone\u001b[39;00m:\n\u001b[1;32m    683\u001b[0m     \u001b[38;5;28mself\u001b[39m\u001b[38;5;241m.\u001b[39mwarn_if_padding_and_no_attention_mask(input_ids, attention_mask)\n\u001b[0;32m--> 684\u001b[0m     input_shape \u001b[38;5;241m=\u001b[39m \u001b[43minput_ids\u001b[49m\u001b[38;5;241;43m.\u001b[39;49m\u001b[43msize\u001b[49m()\n\u001b[1;32m    685\u001b[0m \u001b[38;5;28;01melif\u001b[39;00m inputs_embeds \u001b[38;5;129;01mis\u001b[39;00m \u001b[38;5;129;01mnot\u001b[39;00m \u001b[38;5;28;01mNone\u001b[39;00m:\n\u001b[1;32m    686\u001b[0m     input_shape \u001b[38;5;241m=\u001b[39m inputs_embeds\u001b[38;5;241m.\u001b[39msize()[:\u001b[38;5;241m-\u001b[39m\u001b[38;5;241m1\u001b[39m]\n",
      "\u001b[0;31mAttributeError\u001b[0m: 'list' object has no attribute 'size'"
     ]
    }
   ],
   "source": [
    "model(input_ids=tokenized_dataset['train'][0]['input_ids'],\n",
    "     attention_mask=tokenized_dataset['train'][0]['attention_mask'])"
   ]
  },
  {
   "cell_type": "markdown",
   "id": "f20541d5-fc5d-4b19-b462-0063e548f4b1",
   "metadata": {},
   "source": [
    "### Contando los parámetros en nuestro modelo\n",
    "\n",
    "Pesos/parámetros = pequeñas oportunidades numéricas para que un modelo aprenda patrones en los datos."
   ]
  },
  {
   "cell_type": "code",
   "execution_count": 53,
   "id": "116cb8ee-c50c-4323-9964-24ab4cdb44fe",
   "metadata": {},
   "outputs": [
    {
     "data": {
      "text/plain": [
       "{'trainable_parameters': 66955010, 'total_parameters': 66955010}"
      ]
     },
     "execution_count": 53,
     "metadata": {},
     "output_type": "execute_result"
    }
   ],
   "source": [
    "def count_params(model):\n",
    "    \"\"\"\n",
    "    Count the parameters of a PyTorch model.\n",
    "    \"\"\"\n",
    "    trainable_parameters = sum(param.numel() for param in model.parameters() if param.requires_grad)\n",
    "    total_parameters = sum(param.numel() for param in model.parameters())\n",
    "\n",
    "    return {\"trainable_parameters\": trainable_parameters, \"total_parameters\": total_parameters}\n",
    "\n",
    "count_params(model)"
   ]
  },
  {
   "cell_type": "markdown",
   "id": "df73e05e-bae2-43e1-892c-ac369edc9d12",
   "metadata": {},
   "source": [
    "Parece que nuestro modelo tiene alrededor de 67 millones de parámetros y todos son entrenables\n",
    "\n",
    "Nota:\n",
    "\n",
    "* En general, cuantos más parámetros tenga un modelo, mayor capacidad tendrá para aprender.\n",
    "* Para ponerlo en perspectiva, modelos como Llama3 8B tienen 8 mil millones de parámetros.\n",
    "* Si buscas el mejor rendimiento posible, generalmente más parámetros es mejor.\n",
    "* Sin embargo, con más parámetros se requiere más capacidad de cómputo y tiempo.\n",
    "* Te sorprenderá lo bien que puede funcionar un modelo más pequeño con datos específicos."
   ]
  },
  {
   "cell_type": "code",
   "execution_count": 48,
   "id": "c2c5da74-1c53-4cf0-abac-6928caac0d95",
   "metadata": {},
   "outputs": [
    {
     "data": {
      "text/plain": [
       "119.40298507462687"
      ]
     },
     "execution_count": 48,
     "metadata": {},
     "output_type": "execute_result"
    }
   ],
   "source": [
    "8_000_000_000/67_000_000"
   ]
  },
  {
   "cell_type": "markdown",
   "id": "3f53e0b1-88f1-4cc9-a651-c3bfbfbd4dd4",
   "metadata": {},
   "source": [
    "### Creando un directorio para guardar los modelos"
   ]
  },
  {
   "cell_type": "code",
   "execution_count": 54,
   "id": "dbb30ddd-d4d2-4303-91aa-285452a51a3f",
   "metadata": {},
   "outputs": [
    {
     "data": {
      "text/plain": [
       "PosixPath('models/learn_hf_food_not_food_text_classifier-distilbert-base-uncased')"
      ]
     },
     "execution_count": 54,
     "metadata": {},
     "output_type": "execute_result"
    }
   ],
   "source": [
    "# Creamos un directorio para guardar los modelos\n",
    "from pathlib import Path\n",
    "\n",
    "# Create models dir\n",
    "models_dir = Path(\"models\")\n",
    "models_dir.mkdir(exist_ok=True)\n",
    "\n",
    "# Create model save name\n",
    "model_save_name = \"learn_hf_food_not_food_text_classifier-distilbert-base-uncased\"\n",
    "\n",
    "# Create model save path\n",
    "model_save_dir = Path(models_dir, model_save_name)\n",
    "\n",
    "model_save_dir"
   ]
  },
  {
   "cell_type": "markdown",
   "id": "d7416178-cdba-499f-9d7b-1a7e3aa72b5e",
   "metadata": {},
   "source": [
    "### Configuración de los argumentos de entrenamiento (hiperparámetros) con TrainingArguments"
   ]
  },
  {
   "cell_type": "code",
   "execution_count": 56,
   "id": "2c2a8c8c-eb77-4c31-be1a-148b81e2a400",
   "metadata": {},
   "outputs": [
    {
     "name": "stdout",
     "output_type": "stream",
     "text": [
      "[INFO] Guardando checkpoints del modelo: models/learn_hf_food_not_food_text_classifier-distilbert-base-uncased\n"
     ]
    }
   ],
   "source": [
    "from transformers import TrainingArguments\n",
    "\n",
    "print(f\"[INFO] Guardando checkpoints del modelo: {model_save_dir}\")\n",
    "\n",
    "BATCH_SIZE = 32\n",
    "\n",
    "# Create training arguments \n",
    "training_args = TrainingArguments(\n",
    "    output_dir=model_save_dir,\n",
    "    learning_rate=0.0001,\n",
    "    per_device_train_batch_size=BATCH_SIZE,\n",
    "    per_device_eval_batch_size=BATCH_SIZE,\n",
    "    num_train_epochs=10,\n",
    "    eval_strategy=\"epoch\",\n",
    "    save_strategy=\"epoch\",\n",
    "    save_total_limit=3,\n",
    "    use_cpu=False,\n",
    "    seed=42,\n",
    "    load_best_model_at_end=True,\n",
    "    logging_strategy=\"epoch\",\n",
    "    report_to=\"none\",\n",
    "    # push_to_hub=True\n",
    "    hub_private_repo=False #When uploading to Hugging Face, do you want your model to be private or public (default public)\n",
    "    \n",
    ")"
   ]
  },
  {
   "cell_type": "code",
   "execution_count": 57,
   "id": "ad5b5d7b-2812-4203-aef3-317d94c83df4",
   "metadata": {},
   "outputs": [
    {
     "data": {
      "text/plain": [
       "TrainingArguments(\n",
       "_n_gpu=1,\n",
       "accelerator_config={'split_batches': False, 'dispatch_batches': None, 'even_batches': True, 'use_seedable_sampler': True, 'non_blocking': False, 'gradient_accumulation_kwargs': None, 'use_configured_state': False},\n",
       "adafactor=False,\n",
       "adam_beta1=0.9,\n",
       "adam_beta2=0.999,\n",
       "adam_epsilon=1e-08,\n",
       "auto_find_batch_size=False,\n",
       "batch_eval_metrics=False,\n",
       "bf16=False,\n",
       "bf16_full_eval=False,\n",
       "data_seed=None,\n",
       "dataloader_drop_last=False,\n",
       "dataloader_num_workers=0,\n",
       "dataloader_persistent_workers=False,\n",
       "dataloader_pin_memory=True,\n",
       "dataloader_prefetch_factor=None,\n",
       "ddp_backend=None,\n",
       "ddp_broadcast_buffers=None,\n",
       "ddp_bucket_cap_mb=None,\n",
       "ddp_find_unused_parameters=None,\n",
       "ddp_timeout=1800,\n",
       "debug=[],\n",
       "deepspeed=None,\n",
       "disable_tqdm=False,\n",
       "dispatch_batches=None,\n",
       "do_eval=True,\n",
       "do_predict=False,\n",
       "do_train=False,\n",
       "eval_accumulation_steps=None,\n",
       "eval_delay=0,\n",
       "eval_do_concat_batches=True,\n",
       "eval_on_start=False,\n",
       "eval_steps=None,\n",
       "eval_strategy=IntervalStrategy.EPOCH,\n",
       "eval_use_gather_object=False,\n",
       "evaluation_strategy=None,\n",
       "fp16=False,\n",
       "fp16_backend=auto,\n",
       "fp16_full_eval=False,\n",
       "fp16_opt_level=O1,\n",
       "fsdp=[],\n",
       "fsdp_config={'min_num_params': 0, 'xla': False, 'xla_fsdp_v2': False, 'xla_fsdp_grad_ckpt': False},\n",
       "fsdp_min_num_params=0,\n",
       "fsdp_transformer_layer_cls_to_wrap=None,\n",
       "full_determinism=False,\n",
       "gradient_accumulation_steps=1,\n",
       "gradient_checkpointing=False,\n",
       "gradient_checkpointing_kwargs=None,\n",
       "greater_is_better=False,\n",
       "group_by_length=False,\n",
       "half_precision_backend=auto,\n",
       "hub_always_push=False,\n",
       "hub_model_id=None,\n",
       "hub_private_repo=False,\n",
       "hub_strategy=HubStrategy.EVERY_SAVE,\n",
       "hub_token=<HUB_TOKEN>,\n",
       "ignore_data_skip=False,\n",
       "include_inputs_for_metrics=False,\n",
       "include_num_input_tokens_seen=False,\n",
       "include_tokens_per_second=False,\n",
       "jit_mode_eval=False,\n",
       "label_names=None,\n",
       "label_smoothing_factor=0.0,\n",
       "learning_rate=0.0001,\n",
       "length_column_name=length,\n",
       "load_best_model_at_end=True,\n",
       "local_rank=0,\n",
       "log_level=passive,\n",
       "log_level_replica=warning,\n",
       "log_on_each_node=True,\n",
       "logging_dir=models/learn_hf_food_not_food_text_classifier-distilbert-base-uncased/runs/Nov13_22-55-21_acm-msi,\n",
       "logging_first_step=False,\n",
       "logging_nan_inf_filter=True,\n",
       "logging_steps=500,\n",
       "logging_strategy=IntervalStrategy.EPOCH,\n",
       "lr_scheduler_kwargs={},\n",
       "lr_scheduler_type=SchedulerType.LINEAR,\n",
       "max_grad_norm=1.0,\n",
       "max_steps=-1,\n",
       "metric_for_best_model=loss,\n",
       "mp_parameters=,\n",
       "neftune_noise_alpha=None,\n",
       "no_cuda=False,\n",
       "num_train_epochs=10,\n",
       "optim=OptimizerNames.ADAMW_TORCH,\n",
       "optim_args=None,\n",
       "optim_target_modules=None,\n",
       "output_dir=models/learn_hf_food_not_food_text_classifier-distilbert-base-uncased,\n",
       "overwrite_output_dir=False,\n",
       "past_index=-1,\n",
       "per_device_eval_batch_size=32,\n",
       "per_device_train_batch_size=32,\n",
       "prediction_loss_only=False,\n",
       "push_to_hub=False,\n",
       "push_to_hub_model_id=None,\n",
       "push_to_hub_organization=None,\n",
       "push_to_hub_token=<PUSH_TO_HUB_TOKEN>,\n",
       "ray_scope=last,\n",
       "remove_unused_columns=True,\n",
       "report_to=[],\n",
       "restore_callback_states_from_checkpoint=False,\n",
       "resume_from_checkpoint=None,\n",
       "run_name=models/learn_hf_food_not_food_text_classifier-distilbert-base-uncased,\n",
       "save_on_each_node=False,\n",
       "save_only_model=False,\n",
       "save_safetensors=True,\n",
       "save_steps=500,\n",
       "save_strategy=IntervalStrategy.EPOCH,\n",
       "save_total_limit=3,\n",
       "seed=42,\n",
       "skip_memory_metrics=True,\n",
       "split_batches=None,\n",
       "tf32=None,\n",
       "torch_compile=False,\n",
       "torch_compile_backend=None,\n",
       "torch_compile_mode=None,\n",
       "torch_empty_cache_steps=None,\n",
       "torchdynamo=None,\n",
       "tpu_metrics_debug=False,\n",
       "tpu_num_cores=None,\n",
       "use_cpu=False,\n",
       "use_ipex=False,\n",
       "use_legacy_prediction_loop=False,\n",
       "use_liger_kernel=False,\n",
       "use_mps_device=False,\n",
       "warmup_ratio=0.0,\n",
       "warmup_steps=0,\n",
       "weight_decay=0.0,\n",
       ")"
      ]
     },
     "execution_count": 57,
     "metadata": {},
     "output_type": "execute_result"
    }
   ],
   "source": [
    "training_args"
   ]
  },
  {
   "cell_type": "markdown",
   "id": "371e791a-5b89-43df-b531-f5714dbda625",
   "metadata": {},
   "source": [
    "### Seteando una instancia de Trainer"
   ]
  },
  {
   "cell_type": "code",
   "execution_count": 59,
   "id": "e5d0f9f6-c1b3-48a3-b613-3832042a6146",
   "metadata": {},
   "outputs": [
    {
     "data": {
      "text/plain": [
       "<transformers.trainer.Trainer at 0x75207dbcf750>"
      ]
     },
     "execution_count": 59,
     "metadata": {},
     "output_type": "execute_result"
    }
   ],
   "source": [
    "from transformers import Trainer\n",
    "\n",
    "# Setup Trainer instance\n",
    "trainer = Trainer(\n",
    "    model=model,\n",
    "    args=training_args,\n",
    "    train_dataset=tokenized_dataset['train'],\n",
    "    eval_dataset=tokenized_dataset['test'],\n",
    "    tokenizer=tokenizer,\n",
    "    compute_metrics=compute_accuracy\n",
    ")\n",
    "\n",
    "trainer"
   ]
  },
  {
   "cell_type": "markdown",
   "id": "437bcb75-a83f-4575-be76-941dc5f8cb17",
   "metadata": {},
   "source": [
    "### ¡Entrenamos el modelo!"
   ]
  },
  {
   "cell_type": "code",
   "execution_count": 60,
   "id": "7f8913e6-93c9-4273-bac7-2e5540b66201",
   "metadata": {},
   "outputs": [
    {
     "data": {
      "text/html": [
       "\n",
       "    <div>\n",
       "      \n",
       "      <progress value='70' max='70' style='width:300px; height:20px; vertical-align: middle;'></progress>\n",
       "      [70/70 00:15, Epoch 10/10]\n",
       "    </div>\n",
       "    <table border=\"1\" class=\"dataframe\">\n",
       "  <thead>\n",
       " <tr style=\"text-align: left;\">\n",
       "      <th>Epoch</th>\n",
       "      <th>Training Loss</th>\n",
       "      <th>Validation Loss</th>\n",
       "      <th>Accuracy</th>\n",
       "    </tr>\n",
       "  </thead>\n",
       "  <tbody>\n",
       "    <tr>\n",
       "      <td>1</td>\n",
       "      <td>0.399200</td>\n",
       "      <td>0.107463</td>\n",
       "      <td>0.980000</td>\n",
       "    </tr>\n",
       "    <tr>\n",
       "      <td>2</td>\n",
       "      <td>0.044100</td>\n",
       "      <td>0.059367</td>\n",
       "      <td>0.980000</td>\n",
       "    </tr>\n",
       "    <tr>\n",
       "      <td>3</td>\n",
       "      <td>0.005900</td>\n",
       "      <td>0.002254</td>\n",
       "      <td>1.000000</td>\n",
       "    </tr>\n",
       "    <tr>\n",
       "      <td>4</td>\n",
       "      <td>0.001900</td>\n",
       "      <td>0.001139</td>\n",
       "      <td>1.000000</td>\n",
       "    </tr>\n",
       "    <tr>\n",
       "      <td>5</td>\n",
       "      <td>0.001200</td>\n",
       "      <td>0.000792</td>\n",
       "      <td>1.000000</td>\n",
       "    </tr>\n",
       "    <tr>\n",
       "      <td>6</td>\n",
       "      <td>0.000900</td>\n",
       "      <td>0.000636</td>\n",
       "      <td>1.000000</td>\n",
       "    </tr>\n",
       "    <tr>\n",
       "      <td>7</td>\n",
       "      <td>0.000700</td>\n",
       "      <td>0.000553</td>\n",
       "      <td>1.000000</td>\n",
       "    </tr>\n",
       "    <tr>\n",
       "      <td>8</td>\n",
       "      <td>0.000700</td>\n",
       "      <td>0.000506</td>\n",
       "      <td>1.000000</td>\n",
       "    </tr>\n",
       "    <tr>\n",
       "      <td>9</td>\n",
       "      <td>0.000600</td>\n",
       "      <td>0.000481</td>\n",
       "      <td>1.000000</td>\n",
       "    </tr>\n",
       "    <tr>\n",
       "      <td>10</td>\n",
       "      <td>0.000600</td>\n",
       "      <td>0.000473</td>\n",
       "      <td>1.000000</td>\n",
       "    </tr>\n",
       "  </tbody>\n",
       "</table><p>"
      ],
      "text/plain": [
       "<IPython.core.display.HTML object>"
      ]
     },
     "metadata": {},
     "output_type": "display_data"
    }
   ],
   "source": [
    "results = trainer.train()"
   ]
  },
  {
   "cell_type": "code",
   "execution_count": 61,
   "id": "df7d395f-d197-4483-91ba-7f86eb699bac",
   "metadata": {},
   "outputs": [
    {
     "name": "stdout",
     "output_type": "stream",
     "text": [
      "train_runtime: 16.3294\n",
      "train_samples_per_second: 122.479\n",
      "train_steps_per_second: 4.287\n",
      "total_flos: 18110777160000.0\n",
      "train_loss: 0.04557784213019269\n",
      "epoch: 10.0\n"
     ]
    }
   ],
   "source": [
    "# Inspeccionamos las métricas del modelo\n",
    "for key, value in results.metrics.items():\n",
    "    print(f\"{key}: {value}\")"
   ]
  },
  {
   "cell_type": "markdown",
   "id": "23509820-84c7-4021-93fd-26ee5e65ea86",
   "metadata": {},
   "source": [
    "### Guardamos el modelo para poder usarlo posteriormente\n",
    "\n",
    "**Nota**: Si estás guardando el modelo en Google Colab, ten en cuenta que desaparecerá de tu instancia de Colab cuando se desconecte."
   ]
  },
  {
   "cell_type": "code",
   "execution_count": 62,
   "id": "a23c1e90-33af-4330-9ada-50d00315388f",
   "metadata": {},
   "outputs": [
    {
     "name": "stdout",
     "output_type": "stream",
     "text": [
      "[INFO] Saving model to models/learn_hf_food_not_food_text_classifier-distilbert-base-uncased\n"
     ]
    }
   ],
   "source": [
    "# Save model\n",
    "print(f\"[INFO] Saving model to {model_save_dir}\")\n",
    "trainer.save_model(output_dir=model_save_dir)"
   ]
  },
  {
   "cell_type": "markdown",
   "id": "b93e5519-9eb7-4cb0-a076-c28a5956c0b3",
   "metadata": {},
   "source": [
    "## Inspeccionamos las métricas del entrenamiento"
   ]
  },
  {
   "cell_type": "code",
   "execution_count": 64,
   "id": "54bbcbbb-6da4-46d2-9f8a-324862a48e0a",
   "metadata": {},
   "outputs": [
    {
     "data": {
      "text/plain": [
       "[{'loss': 0.3992,\n",
       "  'grad_norm': 1.7019474506378174,\n",
       "  'learning_rate': 9e-05,\n",
       "  'epoch': 1.0,\n",
       "  'step': 7},\n",
       " {'eval_loss': 0.10746302455663681,\n",
       "  'eval_accuracy': 0.98,\n",
       "  'eval_runtime': 0.0429,\n",
       "  'eval_samples_per_second': 1164.657,\n",
       "  'eval_steps_per_second': 46.586,\n",
       "  'epoch': 1.0,\n",
       "  'step': 7},\n",
       " {'loss': 0.0441,\n",
       "  'grad_norm': 0.14603981375694275,\n",
       "  'learning_rate': 8e-05,\n",
       "  'epoch': 2.0,\n",
       "  'step': 14}]"
      ]
     },
     "execution_count": 64,
     "metadata": {},
     "output_type": "execute_result"
    }
   ],
   "source": [
    "# Obtenemos la historia del entrenamiento\n",
    "trainer_history_all = trainer.state.log_history\n",
    "trainer_history_metrics = trainer_history_all[:-1]\n",
    "trainer_history_training_time = trainer_history_all[-1]\n",
    "\n",
    "# Vemos las primeras 3\n",
    "trainer_history_metrics[:3]"
   ]
  },
  {
   "cell_type": "code",
   "execution_count": 65,
   "id": "d22f9a52-beda-4ff3-96c3-fdf551beac9e",
   "metadata": {},
   "outputs": [
    {
     "name": "stdout",
     "output_type": "stream",
     "text": [
      "Primeros 2 en training set:\n",
      "[{'epoch': 1.0,\n",
      "  'grad_norm': 1.7019474506378174,\n",
      "  'learning_rate': 9e-05,\n",
      "  'loss': 0.3992,\n",
      "  'step': 7},\n",
      " {'epoch': 2.0,\n",
      "  'grad_norm': 0.14603981375694275,\n",
      "  'learning_rate': 8e-05,\n",
      "  'loss': 0.0441,\n",
      "  'step': 14}]\n",
      "\n",
      "Primeros 2 en eval epochs:\n",
      "[{'epoch': 1.0,\n",
      "  'eval_accuracy': 0.98,\n",
      "  'eval_loss': 0.10746302455663681,\n",
      "  'eval_runtime': 0.0429,\n",
      "  'eval_samples_per_second': 1164.657,\n",
      "  'eval_steps_per_second': 46.586,\n",
      "  'step': 7},\n",
      " {'epoch': 2.0,\n",
      "  'eval_accuracy': 0.98,\n",
      "  'eval_loss': 0.059366654604673386,\n",
      "  'eval_runtime': 0.0421,\n",
      "  'eval_samples_per_second': 1186.4,\n",
      "  'eval_steps_per_second': 47.456,\n",
      "  'step': 14}]\n"
     ]
    }
   ],
   "source": [
    "import pprint\n",
    "\n",
    "# Extraemos las métricas eval y training\n",
    "trainer_history_training_set = []\n",
    "trainer_history_eval_set = []\n",
    "\n",
    "# Loop a través de las métricas\n",
    "for item in trainer_history_metrics:\n",
    "    item_keys = list(item.keys())\n",
    "    if any(\"eval\" in item for item in item_keys):\n",
    "        trainer_history_eval_set.append(item)\n",
    "    else:\n",
    "        trainer_history_training_set.append(item)\n",
    "\n",
    "# Mostramos los 2 primeros de cada uno\n",
    "print(f\"Primeros 2 en training set:\")\n",
    "pprint.pprint(trainer_history_training_set[:2])\n",
    "\n",
    "print(f\"\\nPrimeros 2 en eval epochs:\")\n",
    "pprint.pprint(trainer_history_eval_set[:2])"
   ]
  },
  {
   "cell_type": "markdown",
   "id": "a9ff569d-8fc8-4563-bee5-f23c9ee6ac36",
   "metadata": {},
   "source": [
    "### Revisando las `loss curves`"
   ]
  },
  {
   "cell_type": "code",
   "execution_count": 66,
   "id": "a351d42f-d94f-43f2-b188-26f41fd67009",
   "metadata": {},
   "outputs": [
    {
     "data": {
      "text/html": [
       "<div>\n",
       "<style scoped>\n",
       "    .dataframe tbody tr th:only-of-type {\n",
       "        vertical-align: middle;\n",
       "    }\n",
       "\n",
       "    .dataframe tbody tr th {\n",
       "        vertical-align: top;\n",
       "    }\n",
       "\n",
       "    .dataframe thead th {\n",
       "        text-align: right;\n",
       "    }\n",
       "</style>\n",
       "<table border=\"1\" class=\"dataframe\">\n",
       "  <thead>\n",
       "    <tr style=\"text-align: right;\">\n",
       "      <th></th>\n",
       "      <th>loss</th>\n",
       "      <th>grad_norm</th>\n",
       "      <th>learning_rate</th>\n",
       "      <th>epoch</th>\n",
       "      <th>step</th>\n",
       "    </tr>\n",
       "  </thead>\n",
       "  <tbody>\n",
       "    <tr>\n",
       "      <th>0</th>\n",
       "      <td>0.3992</td>\n",
       "      <td>1.701947</td>\n",
       "      <td>0.00009</td>\n",
       "      <td>1.0</td>\n",
       "      <td>7</td>\n",
       "    </tr>\n",
       "    <tr>\n",
       "      <th>1</th>\n",
       "      <td>0.0441</td>\n",
       "      <td>0.146040</td>\n",
       "      <td>0.00008</td>\n",
       "      <td>2.0</td>\n",
       "      <td>14</td>\n",
       "    </tr>\n",
       "    <tr>\n",
       "      <th>2</th>\n",
       "      <td>0.0059</td>\n",
       "      <td>0.046152</td>\n",
       "      <td>0.00007</td>\n",
       "      <td>3.0</td>\n",
       "      <td>21</td>\n",
       "    </tr>\n",
       "    <tr>\n",
       "      <th>3</th>\n",
       "      <td>0.0019</td>\n",
       "      <td>0.022477</td>\n",
       "      <td>0.00006</td>\n",
       "      <td>4.0</td>\n",
       "      <td>28</td>\n",
       "    </tr>\n",
       "    <tr>\n",
       "      <th>4</th>\n",
       "      <td>0.0012</td>\n",
       "      <td>0.019875</td>\n",
       "      <td>0.00005</td>\n",
       "      <td>5.0</td>\n",
       "      <td>35</td>\n",
       "    </tr>\n",
       "  </tbody>\n",
       "</table>\n",
       "</div>"
      ],
      "text/plain": [
       "     loss  grad_norm  learning_rate  epoch  step\n",
       "0  0.3992   1.701947        0.00009    1.0     7\n",
       "1  0.0441   0.146040        0.00008    2.0    14\n",
       "2  0.0059   0.046152        0.00007    3.0    21\n",
       "3  0.0019   0.022477        0.00006    4.0    28\n",
       "4  0.0012   0.019875        0.00005    5.0    35"
      ]
     },
     "execution_count": 66,
     "metadata": {},
     "output_type": "execute_result"
    }
   ],
   "source": [
    "# Crear un pandas DataFrame para training y evaluation metrics\n",
    "trainer_history_train_df = pd.DataFrame(trainer_history_training_set)\n",
    "trainer_history_eval_df = pd.DataFrame(trainer_history_eval_set)\n",
    "\n",
    "trainer_history_train_df.head()"
   ]
  },
  {
   "cell_type": "code",
   "execution_count": 60,
   "id": "0981e67e-1e4f-49c3-bc9a-5b0e526186c2",
   "metadata": {},
   "outputs": [
    {
     "name": "stderr",
     "output_type": "stream",
     "text": [
      "huggingface/tokenizers: The current process just got forked, after parallelism has already been used. Disabling parallelism to avoid deadlocks...\n",
      "To disable this warning, you can either:\n",
      "\t- Avoid using `tokenizers` before the fork if possible\n",
      "\t- Explicitly set the environment variable TOKENIZERS_PARALLELISM=(true | false)\n"
     ]
    },
    {
     "name": "stdout",
     "output_type": "stream",
     "text": [
      "Requirement already satisfied: matplotlib in ./env/lib/python3.11/site-packages (3.9.2)\n",
      "Requirement already satisfied: contourpy>=1.0.1 in ./env/lib/python3.11/site-packages (from matplotlib) (1.3.0)\n",
      "Requirement already satisfied: cycler>=0.10 in ./env/lib/python3.11/site-packages (from matplotlib) (0.12.1)\n",
      "Requirement already satisfied: fonttools>=4.22.0 in ./env/lib/python3.11/site-packages (from matplotlib) (4.54.1)\n",
      "Requirement already satisfied: kiwisolver>=1.3.1 in ./env/lib/python3.11/site-packages (from matplotlib) (1.4.7)\n",
      "Requirement already satisfied: numpy>=1.23 in ./env/lib/python3.11/site-packages (from matplotlib) (2.1.2)\n",
      "Requirement already satisfied: packaging>=20.0 in ./env/lib/python3.11/site-packages (from matplotlib) (24.1)\n",
      "Requirement already satisfied: pillow>=8 in ./env/lib/python3.11/site-packages (from matplotlib) (10.4.0)\n",
      "Requirement already satisfied: pyparsing>=2.3.1 in ./env/lib/python3.11/site-packages (from matplotlib) (3.2.0)\n",
      "Requirement already satisfied: python-dateutil>=2.7 in ./env/lib/python3.11/site-packages (from matplotlib) (2.9.0.post0)\n",
      "Requirement already satisfied: six>=1.5 in ./env/lib/python3.11/site-packages (from python-dateutil>=2.7->matplotlib) (1.16.0)\n",
      "\n",
      "\u001b[1m[\u001b[0m\u001b[34;49mnotice\u001b[0m\u001b[1;39;49m]\u001b[0m\u001b[39;49m A new release of pip is available: \u001b[0m\u001b[31;49m23.2.1\u001b[0m\u001b[39;49m -> \u001b[0m\u001b[32;49m24.2\u001b[0m\n",
      "\u001b[1m[\u001b[0m\u001b[34;49mnotice\u001b[0m\u001b[1;39;49m]\u001b[0m\u001b[39;49m To update, run: \u001b[0m\u001b[32;49mpip install --upgrade pip\u001b[0m\n"
     ]
    }
   ],
   "source": [
    "!pip install matplotlib"
   ]
  },
  {
   "cell_type": "code",
   "execution_count": 67,
   "id": "671fced0-e269-4ae9-be8f-5b46164979b5",
   "metadata": {},
   "outputs": [
    {
     "data": {
      "image/png": "[encoded data removed]",
      "text/plain": [
       "<Figure size 1000x600 with 1 Axes>"
      ]
     },
     "metadata": {},
     "output_type": "display_data"
    }
   ],
   "source": [
    "# plot the loss curves\n",
    "import matplotlib.pyplot as plt\n",
    "\n",
    "plt.figure(figsize=(10,6))\n",
    "plt.plot(trainer_history_train_df['epoch'], trainer_history_train_df['loss'], label=\"Training loss\")\n",
    "plt.plot(trainer_history_eval_df['epoch'], trainer_history_eval_df['eval_loss'], label=\"Eval loss\")\n",
    "plt.xlabel(\"Epoch\")\n",
    "plt.ylabel(\"Loss\")\n",
    "plt.title(\"Text classificacion fine-tuning DistilBert training and evaluation over time\")\n",
    "plt.legend()\n",
    "plt.show()\n"
   ]
  },
  {
   "cell_type": "markdown",
   "id": "1057b253-8215-4cbb-995d-683c8cac3fe1",
   "metadata": {},
   "source": [
    "### Subiendo nuestro modelo al Hugging Face Hub\n",
    "\n",
    "¿Por qué hacer esto?\n",
    "- Para poder compartir nuestro modelo.\n",
    "- Otras personas pueden probarlo.\n",
    "- Podemos mantener un historial de diferentes versiones del modelo.\n",
    "\n",
    "Para escribir en Hugging Face:\n",
    "- Si estás en Google Token: configura el \"token\" con acceso de \"lectura y escritura\".\n",
    "- Si estás en una máquina local: configura `huggingface-cli`.\n",
    "\n",
    "Para guardar en el Hugging Face Hub, podemos usar el método `Trainer.push_to_hub`."
   ]
  },
  {
   "cell_type": "code",
   "execution_count": 68,
   "id": "b119752d-3f65-4e87-b874-3cbfd03c3f50",
   "metadata": {},
   "outputs": [
    {
     "name": "stdout",
     "output_type": "stream",
     "text": [
      "The token has not been saved to the git credentials helper. Pass `add_to_git_credential=True` in this function directly or `--add-to-git-credential` if using via `huggingface-cli` if you want to set the git credential as well.\n",
      "Token is valid (permission: write).\n",
      "Your token has been saved to /home/acm/.cache/huggingface/token\n",
      "Login successful\n"
     ]
    }
   ],
   "source": [
    "from huggingface_hub import login\n",
    "login(os.getenv(\"HF_TOKEN\"))"
   ]
  },
  {
   "cell_type": "code",
   "execution_count": 72,
   "id": "f0995627-9ce9-4e36-9b65-d5911fce018e",
   "metadata": {},
   "outputs": [
    {
     "name": "stderr",
     "output_type": "stream",
     "text": [
      "No files have been modified since last commit. Skipping to prevent empty commit.\n"
     ]
    },
    {
     "name": "stdout",
     "output_type": "stream",
     "text": [
      "[INFO] Model successfully uploaded to the Hugging Face Hub with URL: https://huggingface.co/tonicanada/learn_hf_food_not_food_text_classifier-distilbert-base-uncased/tree/main/\n"
     ]
    }
   ],
   "source": [
    "# Save our model to the Hugging Face Hub\n",
    "model_upload_url = trainer.push_to_hub(\n",
    "    commit_message=\"Subiendo el modelo de clasificador de texto de food/not_food\",\n",
    ")\n",
    "print(f\"[INFO] Model successfully uploaded to the Hugging Face Hub with URL: {model_upload_url}\")"
   ]
  },
  {
   "cell_type": "markdown",
   "id": "e938c863-cc7d-4995-81f2-85314725f356",
   "metadata": {},
   "source": [
    "## Haciendo y evaluando predicciones en los datos test\n",
    "\n",
    "**Nota**: Evaluar un modelo es tan importante como entrenarlo."
   ]
  },
  {
   "cell_type": "code",
   "execution_count": 73,
   "id": "635ba9ea-68a3-4128-9ac6-392e1b2baf47",
   "metadata": {},
   "outputs": [
    {
     "data": {
      "text/html": [],
      "text/plain": [
       "<IPython.core.display.HTML object>"
      ]
     },
     "metadata": {},
     "output_type": "display_data"
    },
    {
     "name": "stdout",
     "output_type": "stream",
     "text": [
      "[INFO] Métricas de predicción en la data test:\n"
     ]
    },
    {
     "data": {
      "text/plain": [
       "{'test_loss': 0.0004733024397864938,\n",
       " 'test_accuracy': 1.0,\n",
       " 'test_runtime': 0.0736,\n",
       " 'test_samples_per_second': 679.015,\n",
       " 'test_steps_per_second': 27.161}"
      ]
     },
     "execution_count": 73,
     "metadata": {},
     "output_type": "execute_result"
    }
   ],
   "source": [
    "# Predicciones en el set de test\n",
    "predictions_all = trainer.predict(tokenized_dataset['test'])\n",
    "prediction_values = predictions_all.predictions\n",
    "prediction_metrics = predictions_all.metrics\n",
    "\n",
    "print(f\"[INFO] Métricas de predicción en la data test:\")\n",
    "prediction_metrics"
   ]
  },
  {
   "cell_type": "code",
   "execution_count": 74,
   "id": "6bf46b89-d858-4530-8ec2-a39d1ba3bb97",
   "metadata": {},
   "outputs": [
    {
     "data": {
      "text/plain": [
       "PredictionOutput(predictions=array([[-3.5655854,  4.050842 ],\n",
       "       [ 4.108436 , -3.5667434],\n",
       "       [-3.5987396,  4.051071 ],\n",
       "       [ 4.189356 , -3.5941718],\n",
       "       [ 4.174309 , -3.5734787],\n",
       "       [-3.5950534,  4.062822 ],\n",
       "       [ 4.179851 , -3.5814786],\n",
       "       [ 4.1800413, -3.5784364],\n",
       "       [-3.5961647,  4.0515275],\n",
       "       [-3.5851297,  4.040712 ],\n",
       "       [-3.5919209,  4.052533 ],\n",
       "       [-3.5278883,  3.977925 ],\n",
       "       [ 4.1621585, -3.5740569],\n",
       "       [-3.5964828,  4.047571 ],\n",
       "       [-3.575441 ,  4.0346985],\n",
       "       [ 4.193889 , -3.570478 ],\n",
       "       [-3.5895047,  4.049947 ],\n",
       "       [ 4.134468 , -3.565461 ],\n",
       "       [-3.6007972,  4.027627 ],\n",
       "       [-3.6008315,  4.056313 ],\n",
       "       [-3.5901027,  4.021924 ],\n",
       "       [-3.5940216,  4.0449224],\n",
       "       [ 4.157044 , -3.5858703],\n",
       "       [ 4.184146 , -3.5836735],\n",
       "       [-3.6022315,  4.0555916],\n",
       "       [-3.601858 ,  4.031769 ],\n",
       "       [-3.5864644,  4.0300655],\n",
       "       [ 4.173559 , -3.5732865],\n",
       "       [-3.5922463,  4.056378 ],\n",
       "       [ 4.1712446, -3.5756712],\n",
       "       [-3.5953584,  4.052969 ],\n",
       "       [-3.5861163,  4.0251436],\n",
       "       [-3.6032705,  4.0547924],\n",
       "       [ 4.183695 , -3.5825574],\n",
       "       [-3.5894945,  4.040144 ],\n",
       "       [-3.5976434,  4.031395 ],\n",
       "       [-3.5990906,  4.05225  ],\n",
       "       [-3.5894632,  4.0229206],\n",
       "       [ 4.1897984, -3.5634496],\n",
       "       [ 4.141019 , -3.548046 ],\n",
       "       [-3.3491764,  3.7925444],\n",
       "       [-3.5960152,  4.0398884],\n",
       "       [-3.5888462,  4.0464234],\n",
       "       [ 4.1806254, -3.5830078],\n",
       "       [-3.604766 ,  4.0404053],\n",
       "       [-3.5897412,  4.058768 ],\n",
       "       [-3.5865188,  4.0312247],\n",
       "       [-3.5943575,  4.057223 ],\n",
       "       [ 4.186881 , -3.5790954],\n",
       "       [-3.5953913,  4.0139875]], dtype=float32), label_ids=array([1, 0, 1, 0, 0, 1, 0, 0, 1, 1, 1, 1, 0, 1, 1, 0, 1, 0, 1, 1, 1, 1,\n",
       "       0, 0, 1, 1, 1, 0, 1, 0, 1, 1, 1, 0, 1, 1, 1, 1, 0, 0, 1, 1, 1, 0,\n",
       "       1, 1, 1, 1, 0, 1]), metrics={'test_loss': 0.0004733024397864938, 'test_accuracy': 1.0, 'test_runtime': 0.0736, 'test_samples_per_second': 679.015, 'test_steps_per_second': 27.161})"
      ]
     },
     "execution_count": 74,
     "metadata": {},
     "output_type": "execute_result"
    }
   ],
   "source": [
    "predictions_all"
   ]
  },
  {
   "cell_type": "markdown",
   "id": "5f35c0eb-ead3-4f70-9393-e783b928f478",
   "metadata": {},
   "source": [
    "### Obtengamos las probabilidades predichas y evaluemos manualmente"
   ]
  },
  {
   "cell_type": "code",
   "execution_count": 75,
   "id": "1882b35c-3213-4ed9-8184-22e7aaa0c958",
   "metadata": {},
   "outputs": [
    {
     "data": {
      "text/plain": [
       "array([-3.5655854,  4.050842 ], dtype=float32)"
      ]
     },
     "execution_count": 75,
     "metadata": {},
     "output_type": "execute_result"
    }
   ],
   "source": [
    "# El modelo devuelve logits sin procesar\n",
    "predictions_all.predictions[0]"
   ]
  },
  {
   "cell_type": "code",
   "execution_count": 76,
   "id": "d39360bb-3c2f-4c45-95bd-f8ed451a0492",
   "metadata": {},
   "outputs": [
    {
     "data": {
      "text/plain": [
       "tensor([4.9206e-04, 9.9951e-01])"
      ]
     },
     "execution_count": 76,
     "metadata": {},
     "output_type": "execute_result"
    }
   ],
   "source": [
    "# Softmax convierte todos los valores para que estén entre 0 y 1 y la suma total de los valores sea 1\n",
    "# Esto es lo que se conoce como \"probabilidad de predicción\"\n",
    "torch.softmax(torch.tensor(predictions_all.predictions[0]), dim=0)"
   ]
  },
  {
   "cell_type": "markdown",
   "id": "9ec4ce60-7655-4f00-bc0e-04caa4c482f6",
   "metadata": {},
   "source": [
    "**Nota**: Si deseas un buen método de evaluación, haz predicciones sobre todo tu conjunto de datos de prueba, luego indexa las predicciones que son incorrectas pero tienen una alta probabilidad de predicción. Por ejemplo, obtén las 100-1000 principales y revisa todos los ejemplos donde la predicción del modelo tenía una alta probabilidad pero fue incorrecta -> esto a menudo conduce a excelentes percepciones sobre tus datos."
   ]
  },
  {
   "cell_type": "markdown",
   "id": "422cbfd1-3de5-4780-b1a7-670e079fd3aa",
   "metadata": {},
   "source": [
    "**Nota**: Estos valores no sugieren cuán \"correcto\" está el modelo, porque un modelo puede tener una alta probabilidad de predicción pero aún así estar equivocado."
   ]
  },
  {
   "cell_type": "code",
   "execution_count": 77,
   "id": "69d3c85f-142d-43c9-bbf9-c14fa9cfb0ae",
   "metadata": {},
   "outputs": [
    {
     "name": "stdout",
     "output_type": "stream",
     "text": [
      "[INFO] Test accuracy: 100.0\n"
     ]
    }
   ],
   "source": [
    "# Predicted logits (raw outputs of the model) -> prediction probabilities with torch.softmax -> predicted labels\n",
    "import torch\n",
    "from sklearn.metrics import accuracy_score\n",
    "\n",
    "# 1. Obtener prediction probabilities con torch.softmax\n",
    "pred_probs = torch.softmax(torch.tensor(prediction_values), dim=1)\n",
    "pred_probs\n",
    "\n",
    "# 2. Obtener las predicted labels\n",
    "pred_labels = torch.argmax(pred_probs, dim=1)\n",
    "pred_labels\n",
    "\n",
    "# 3. Obtener las true labels\n",
    "true_labels = tokenized_dataset['test']['label']\n",
    "\n",
    "# 4. Calcular las etiquetas de predicción con las etiquetas reales y obtener la precisión en el test\n",
    "test_accuracy = accuracy_score(y_true = true_labels,\n",
    "                               y_pred = pred_labels)\n",
    "\n",
    "print(f\"[INFO] Test accuracy: {test_accuracy*100}\")"
   ]
  },
  {
   "cell_type": "markdown",
   "id": "a57aa62b-1bda-43f8-8850-aa5260c57e50",
   "metadata": {},
   "source": [
    "### Explorando las probabilidades de predicción de nuestro modelo\n",
    "\n",
    "Es una excelente manera de evaluar un modelo ordenando las predicciones y observando dónde se equivocó el modelo."
   ]
  },
  {
   "cell_type": "code",
   "execution_count": 78,
   "id": "b112fee6-6231-45c2-a3b1-a20fdf0bd35b",
   "metadata": {},
   "outputs": [
    {
     "data": {
      "text/html": [
       "<div>\n",
       "<style scoped>\n",
       "    .dataframe tbody tr th:only-of-type {\n",
       "        vertical-align: middle;\n",
       "    }\n",
       "\n",
       "    .dataframe tbody tr th {\n",
       "        vertical-align: top;\n",
       "    }\n",
       "\n",
       "    .dataframe thead th {\n",
       "        text-align: right;\n",
       "    }\n",
       "</style>\n",
       "<table border=\"1\" class=\"dataframe\">\n",
       "  <thead>\n",
       "    <tr style=\"text-align: right;\">\n",
       "      <th></th>\n",
       "      <th>text</th>\n",
       "      <th>true_label</th>\n",
       "      <th>pred_label</th>\n",
       "      <th>pred_probs</th>\n",
       "    </tr>\n",
       "  </thead>\n",
       "  <tbody>\n",
       "    <tr>\n",
       "      <th>0</th>\n",
       "      <td>A slice of pepperoni pizza with a layer of mel...</td>\n",
       "      <td>1</td>\n",
       "      <td>1</td>\n",
       "      <td>0.999508</td>\n",
       "    </tr>\n",
       "    <tr>\n",
       "      <th>1</th>\n",
       "      <td>Red brick fireplace with a mantel serving as a...</td>\n",
       "      <td>0</td>\n",
       "      <td>0</td>\n",
       "      <td>0.999536</td>\n",
       "    </tr>\n",
       "    <tr>\n",
       "      <th>2</th>\n",
       "      <td>A bowl of sliced bell peppers with a sprinkle ...</td>\n",
       "      <td>1</td>\n",
       "      <td>1</td>\n",
       "      <td>0.999524</td>\n",
       "    </tr>\n",
       "    <tr>\n",
       "      <th>3</th>\n",
       "      <td>Set of mugs hanging on a hook</td>\n",
       "      <td>0</td>\n",
       "      <td>0</td>\n",
       "      <td>0.999584</td>\n",
       "    </tr>\n",
       "    <tr>\n",
       "      <th>4</th>\n",
       "      <td>Standing floor lamp providing light next to an...</td>\n",
       "      <td>0</td>\n",
       "      <td>0</td>\n",
       "      <td>0.999569</td>\n",
       "    </tr>\n",
       "  </tbody>\n",
       "</table>\n",
       "</div>"
      ],
      "text/plain": [
       "                                                text  true_label  pred_label  \\\n",
       "0  A slice of pepperoni pizza with a layer of mel...           1           1   \n",
       "1  Red brick fireplace with a mantel serving as a...           0           0   \n",
       "2  A bowl of sliced bell peppers with a sprinkle ...           1           1   \n",
       "3                      Set of mugs hanging on a hook           0           0   \n",
       "4  Standing floor lamp providing light next to an...           0           0   \n",
       "\n",
       "   pred_probs  \n",
       "0    0.999508  \n",
       "1    0.999536  \n",
       "2    0.999524  \n",
       "3    0.999584  \n",
       "4    0.999569  "
      ]
     },
     "execution_count": 78,
     "metadata": {},
     "output_type": "execute_result"
    }
   ],
   "source": [
    "# Make a DataFrame of test predictions\n",
    "test_predictions_df = pd.DataFrame({\n",
    "    \"text\": dataset['test']['text'],\n",
    "    \"true_label\": true_labels,\n",
    "    \"pred_label\": pred_labels,\n",
    "    \"pred_probs\": torch.max(pred_probs, dim=1).values\n",
    "})\n",
    "\n",
    "test_predictions_df.head()"
   ]
  },
  {
   "cell_type": "code",
   "execution_count": 79,
   "id": "aa057b23-b609-42ef-a519-3670acc9c500",
   "metadata": {},
   "outputs": [
    {
     "data": {
      "text/html": [
       "<div>\n",
       "<style scoped>\n",
       "    .dataframe tbody tr th:only-of-type {\n",
       "        vertical-align: middle;\n",
       "    }\n",
       "\n",
       "    .dataframe tbody tr th {\n",
       "        vertical-align: top;\n",
       "    }\n",
       "\n",
       "    .dataframe thead th {\n",
       "        text-align: right;\n",
       "    }\n",
       "</style>\n",
       "<table border=\"1\" class=\"dataframe\">\n",
       "  <thead>\n",
       "    <tr style=\"text-align: right;\">\n",
       "      <th></th>\n",
       "      <th>text</th>\n",
       "      <th>true_label</th>\n",
       "      <th>pred_label</th>\n",
       "      <th>pred_probs</th>\n",
       "    </tr>\n",
       "  </thead>\n",
       "  <tbody>\n",
       "    <tr>\n",
       "      <th>40</th>\n",
       "      <td>A bowl of cherries with a sprig of mint for ga...</td>\n",
       "      <td>1</td>\n",
       "      <td>1</td>\n",
       "      <td>0.999209</td>\n",
       "    </tr>\n",
       "    <tr>\n",
       "      <th>11</th>\n",
       "      <td>A close-up shot of a cheesy pizza slice being ...</td>\n",
       "      <td>1</td>\n",
       "      <td>1</td>\n",
       "      <td>0.999450</td>\n",
       "    </tr>\n",
       "    <tr>\n",
       "      <th>49</th>\n",
       "      <td>Plate of sushi served with pickled ginger and ...</td>\n",
       "      <td>1</td>\n",
       "      <td>1</td>\n",
       "      <td>0.999504</td>\n",
       "    </tr>\n",
       "    <tr>\n",
       "      <th>14</th>\n",
       "      <td>Two handfuls of bananas in a fruit bowl with g...</td>\n",
       "      <td>1</td>\n",
       "      <td>1</td>\n",
       "      <td>0.999505</td>\n",
       "    </tr>\n",
       "    <tr>\n",
       "      <th>31</th>\n",
       "      <td>Crunchy sushi roll with tempura flakes or pank...</td>\n",
       "      <td>1</td>\n",
       "      <td>1</td>\n",
       "      <td>0.999505</td>\n",
       "    </tr>\n",
       "    <tr>\n",
       "      <th>20</th>\n",
       "      <td>Pizza with a seafood theme, featuring toppings...</td>\n",
       "      <td>1</td>\n",
       "      <td>1</td>\n",
       "      <td>0.999506</td>\n",
       "    </tr>\n",
       "    <tr>\n",
       "      <th>37</th>\n",
       "      <td>Close-up of a sushi roll with avocado, cucumbe...</td>\n",
       "      <td>1</td>\n",
       "      <td>1</td>\n",
       "      <td>0.999506</td>\n",
       "    </tr>\n",
       "    <tr>\n",
       "      <th>0</th>\n",
       "      <td>A slice of pepperoni pizza with a layer of mel...</td>\n",
       "      <td>1</td>\n",
       "      <td>1</td>\n",
       "      <td>0.999508</td>\n",
       "    </tr>\n",
       "    <tr>\n",
       "      <th>26</th>\n",
       "      <td>A fruit platter with a variety of exotic fruit...</td>\n",
       "      <td>1</td>\n",
       "      <td>1</td>\n",
       "      <td>0.999508</td>\n",
       "    </tr>\n",
       "    <tr>\n",
       "      <th>46</th>\n",
       "      <td>A bowl of sliced kiwi with a sprinkle of sugar...</td>\n",
       "      <td>1</td>\n",
       "      <td>1</td>\n",
       "      <td>0.999509</td>\n",
       "    </tr>\n",
       "  </tbody>\n",
       "</table>\n",
       "</div>"
      ],
      "text/plain": [
       "                                                 text  true_label  pred_label  \\\n",
       "40  A bowl of cherries with a sprig of mint for ga...           1           1   \n",
       "11  A close-up shot of a cheesy pizza slice being ...           1           1   \n",
       "49  Plate of sushi served with pickled ginger and ...           1           1   \n",
       "14  Two handfuls of bananas in a fruit bowl with g...           1           1   \n",
       "31  Crunchy sushi roll with tempura flakes or pank...           1           1   \n",
       "20  Pizza with a seafood theme, featuring toppings...           1           1   \n",
       "37  Close-up of a sushi roll with avocado, cucumbe...           1           1   \n",
       "0   A slice of pepperoni pizza with a layer of mel...           1           1   \n",
       "26  A fruit platter with a variety of exotic fruit...           1           1   \n",
       "46  A bowl of sliced kiwi with a sprinkle of sugar...           1           1   \n",
       "\n",
       "    pred_probs  \n",
       "40    0.999209  \n",
       "11    0.999450  \n",
       "49    0.999504  \n",
       "14    0.999505  \n",
       "31    0.999505  \n",
       "20    0.999506  \n",
       "37    0.999506  \n",
       "0     0.999508  \n",
       "26    0.999508  \n",
       "46    0.999509  "
      ]
     },
     "execution_count": 79,
     "metadata": {},
     "output_type": "execute_result"
    }
   ],
   "source": [
    "# Muestra 10 ejemplos con baja prediction probability\n",
    "test_predictions_df.sort_values(\"pred_probs\", ascending=True).head(10)"
   ]
  },
  {
   "cell_type": "markdown",
   "id": "0600f1ab-d683-4a51-b2bc-a5ba6a8b4c26",
   "metadata": {},
   "source": [
    "## Haciendo y evaluando predicciones en datos personalizados\n",
    "\n",
    "Vamos a probar el modelo para que haga predicciones sobre frases que no están ni en el training set ni en el test set."
   ]
  },
  {
   "cell_type": "code",
   "execution_count": 80,
   "id": "c1f1cb31-3405-4244-aab6-da560d82bf33",
   "metadata": {},
   "outputs": [],
   "source": [
    "local_model_path = \"models/learn_hf_food_not_food_text_classifier-distilbert-base-uncased\"\n",
    "\n",
    "hugging_face_model_path = \"tonicanada/learn_hf_food_not_food_text_classifier-distilbert-base-uncased\""
   ]
  },
  {
   "cell_type": "markdown",
   "id": "56ef9d41-7664-40a9-8b8c-99ac41e2d84e",
   "metadata": {},
   "source": [
    "### Discutiendo formas de hacer predicciones (inferencia)\n",
    "* Nota: Siempre que escuches la palabra \"inferencia\", significa usar un modelo para hacer predicciones sobre datos.\n",
    "\n",
    "Dos formas principales de realizar inferencia:\n",
    "1. **Modo Pipeline** - Usando `transformers.pipeline` para cargar nuestro modelo y realizar clasificación de texto.\n",
    "2. **Modo PyTorch** - Usando una combinación de `transformers.AutoTokenizer` y `transformers.AutoModelForSequenceClassification` y pasando el nombre de nuestro modelo objetivo.\n",
    "\n",
    "Cada modo soporta:\n",
    "1. Predicciones una a la vez (rápido, pero puede ser más lento con muchos, muchos ejemplos).\n",
    "    * Útil para, por ejemplo, un sistema de comentarios donde los comentarios ocurren de forma esporádica, para predecir si el comentario es \"spam\" o \"no spam\".\n",
    "2. Lotes de predicciones a la vez (más rápido, pero hasta cierto punto, por ejemplo, si predices 32 ejemplos a la vez, esto puede ser mucho más rápido que uno a la vez, pero si predices 128 a la vez, puede que no veas muchas más mejoras en la velocidad).\n",
    "    * Útil cuando tienes una base de datos estática grande o muchos ejemplos entrando al mismo tiempo.\n"
   ]
  },
  {
   "cell_type": "code",
   "execution_count": 81,
   "id": "c3e9de0a-db18-4666-a432-4639469d5428",
   "metadata": {},
   "outputs": [
    {
     "name": "stdout",
     "output_type": "stream",
     "text": [
      "[INFO] Using device: cuda\n"
     ]
    }
   ],
   "source": [
    "# Definiendo el device para hacer las predicciones\n",
    "# Note: Normalmente si el hardware es más rápido, más rápidas son las predicciones, \n",
    "# por ejemplo, si tienes una GPU, te conviene usarla en lugar de la CPU \n",
    "\n",
    "def set_device():\n",
    "    if torch.cuda.is_available():\n",
    "        device = torch.device(\"cuda\")\n",
    "    elif torch.backends.mps.is_available() and torch.backends.mps.is_built():\n",
    "        device = torch.device(\"mps\")\n",
    "    else:\n",
    "        device = torch.device(\"cpu\")\n",
    "    return device\n",
    "\n",
    "DEVICE = set_device()\n",
    "print(f\"[INFO] Using device: {DEVICE}\")"
   ]
  },
  {
   "cell_type": "markdown",
   "id": "7aca05b7-c393-4667-8251-333f5e0c693c",
   "metadata": {},
   "source": [
    "### Haciendo prediciones con el pipeline mode"
   ]
  },
  {
   "cell_type": "code",
   "execution_count": 82,
   "id": "636afad1-19ba-4493-9747-a5b1fa138f40",
   "metadata": {},
   "outputs": [
    {
     "name": "stdout",
     "output_type": "stream",
     "text": [
      "Wed Nov 13 23:24:19 2024       \n",
      "+---------------------------------------------------------------------------------------+\n",
      "| NVIDIA-SMI 535.183.01             Driver Version: 535.183.01   CUDA Version: 12.2     |\n",
      "|-----------------------------------------+----------------------+----------------------+\n",
      "| GPU  Name                 Persistence-M | Bus-Id        Disp.A | Volatile Uncorr. ECC |\n",
      "| Fan  Temp   Perf          Pwr:Usage/Cap |         Memory-Usage | GPU-Util  Compute M. |\n",
      "|                                         |                      |               MIG M. |\n",
      "|=========================================+======================+======================|\n",
      "|   0  NVIDIA GeForce RTX 2070 ...    Off | 00000000:01:00.0 Off |                  N/A |\n",
      "| N/A   49C    P8               4W /  80W |   1598MiB /  8192MiB |      0%      Default |\n",
      "|                                         |                      |                  N/A |\n",
      "+-----------------------------------------+----------------------+----------------------+\n",
      "                                                                                         \n",
      "+---------------------------------------------------------------------------------------+\n",
      "| Processes:                                                                            |\n",
      "|  GPU   GI   CI        PID   Type   Process name                            GPU Memory |\n",
      "|        ID   ID                                                             Usage      |\n",
      "|=======================================================================================|\n",
      "|    0   N/A  N/A      6469      G   /usr/bin/gnome-shell                          2MiB |\n",
      "|    0   N/A  N/A     15129      C   ...rses/ztm-huggingface/env/bin/python     1592MiB |\n",
      "+---------------------------------------------------------------------------------------+\n"
     ]
    },
    {
     "name": "stderr",
     "output_type": "stream",
     "text": [
      "huggingface/tokenizers: The current process just got forked, after parallelism has already been used. Disabling parallelism to avoid deadlocks...\n",
      "To disable this warning, you can either:\n",
      "\t- Avoid using `tokenizers` before the fork if possible\n",
      "\t- Explicitly set the environment variable TOKENIZERS_PARALLELISM=(true | false)\n"
     ]
    }
   ],
   "source": [
    "!nvidia-smi"
   ]
  },
  {
   "cell_type": "code",
   "execution_count": 83,
   "id": "66f91271-8c0e-403c-a014-3e3ad2e1b6cb",
   "metadata": {},
   "outputs": [
    {
     "data": {
      "text/plain": [
       "<transformers.pipelines.text_classification.TextClassificationPipeline at 0x752199cc7d50>"
      ]
     },
     "execution_count": 83,
     "metadata": {},
     "output_type": "execute_result"
    }
   ],
   "source": [
    "import torch\n",
    "from transformers import pipeline\n",
    "\n",
    "# Set the batch size\n",
    "BATCH_SIZE = 32 # reminder: prediction speed often increases with higher batch size (e.g. 1->32 but can saturate at even point)\n",
    "\n",
    "# Create an instance of transformers.pipeline\n",
    "food_not_food_classifier = pipeline(task=\"text-classification\",\n",
    "                                    model=local_model_path,\n",
    "                                    device=DEVICE,\n",
    "                                    top_k=1,\n",
    "                                    batch_size=BATCH_SIZE)\n",
    "\n",
    "food_not_food_classifier"
   ]
  },
  {
   "cell_type": "code",
   "execution_count": 84,
   "id": "62e0f679-3535-4fe7-85dd-e04dccccb3a3",
   "metadata": {},
   "outputs": [
    {
     "data": {
      "text/plain": [
       "[[{'label': 'food', 'score': 0.9984574317932129}]]"
      ]
     },
     "execution_count": 84,
     "metadata": {},
     "output_type": "execute_result"
    }
   ],
   "source": [
    "test_custom_sentence = \"A plate of pizza\" \n",
    "food_not_food_classifier(test_custom_sentence)"
   ]
  },
  {
   "cell_type": "code",
   "execution_count": 85,
   "id": "8aa59e5d-6074-45ad-9cec-d01cdfc3d1c8",
   "metadata": {},
   "outputs": [],
   "source": [
    "del pipeline\n",
    "del food_not_food_classifier"
   ]
  },
  {
   "cell_type": "code",
   "execution_count": 86,
   "id": "2f651567-2cdd-4258-9b3d-3c9b8dfb4967",
   "metadata": {},
   "outputs": [],
   "source": [
    "# Use pipeline with a model from Hugging Face\n",
    "from transformers import pipeline\n",
    "food_not_food_classifier = pipeline(task=\"text-classification\",\n",
    "                                    model=hugging_face_model_path,\n",
    "                                    device=DEVICE,\n",
    "                                    top_k=1,\n",
    "                                    batch_size=BATCH_SIZE)\n"
   ]
  },
  {
   "cell_type": "code",
   "execution_count": 87,
   "id": "b8ee8d4a-f0db-4dd7-87c2-05444f454d61",
   "metadata": {},
   "outputs": [
    {
     "data": {
      "text/plain": [
       "[[{'label': 'food', 'score': 0.9984574317932129}]]"
      ]
     },
     "execution_count": 87,
     "metadata": {},
     "output_type": "execute_result"
    }
   ],
   "source": [
    "food_not_food_classifier(test_custom_sentence)"
   ]
  },
  {
   "cell_type": "markdown",
   "id": "a2da0e22-7eb6-4f58-acd1-afb0be4cca64",
   "metadata": {},
   "source": [
    "#### Hacer múltiples predicciones al mismo tiempo con predicción por lotes"
   ]
  },
  {
   "cell_type": "code",
   "execution_count": 88,
   "id": "e8528f41-d37e-4138-95e5-372a6088cdf9",
   "metadata": {},
   "outputs": [
    {
     "data": {
      "text/plain": [
       "[[{'label': 'not_food', 'score': 0.9983304142951965}],\n",
       " [{'label': 'not_food', 'score': 0.9984914064407349}],\n",
       " [{'label': 'not_food', 'score': 0.9984080195426941}],\n",
       " [{'label': 'not_food', 'score': 0.9960306286811829}],\n",
       " [{'label': 'not_food', 'score': 0.9941054582595825}],\n",
       " [{'label': 'not_food', 'score': 0.9981845021247864}],\n",
       " [{'label': 'not_food', 'score': 0.9975733160972595}],\n",
       " [{'label': 'food', 'score': 0.9968075752258301}],\n",
       " [{'label': 'not_food', 'score': 0.9991003274917603}],\n",
       " [{'label': 'not_food', 'score': 0.9979191422462463}]]"
      ]
     },
     "execution_count": 88,
     "metadata": {},
     "output_type": "execute_result"
    }
   ],
   "source": [
    "# Crear una lista de oraciones para hacer predicciones\n",
    "sentences = [\n",
    "    \"I whipped up a fresh batch of code, but it seems to have a syntax error.\",\n",
    "    \"We need to marinate these ideas overnight before presenting them to the client.\",\n",
    "    \"The new software is definitely a spicy upgrade, taking some time to get used to.\",\n",
    "    \"Her social media post was the perfect recipe for a viral sensation.\",\n",
    "    \"He served up a rebuttal full of facts, leaving his opponent speechless.\",\n",
    "    \"The team needs to simmer down a bit before tackling the next challenge.\",\n",
    "    \"The presentation was a delicious blend of humor and information, keeping the audience engaged.\",\n",
    "    \"A beautiful array of fake wax foods (shokuhin sampuru) in the front of a Japanese restaurant.\",\n",
    "    \"Daniel Bourke is really cool :D\",\n",
    "    \"My favoruite food is biltong!\"\n",
    "]\n",
    "\n",
    "food_not_food_classifier(sentences)"
   ]
  },
  {
   "cell_type": "markdown",
   "id": "20f6c177-1ab7-46f2-b94a-3236f930200e",
   "metadata": {},
   "source": [
    "#### Medir el tiempo de nuestro modelo con tamaños de muestra más grandes"
   ]
  },
  {
   "cell_type": "code",
   "execution_count": 89,
   "id": "cc1f4e72-a7db-4cef-a420-d92a4891f348",
   "metadata": {},
   "outputs": [
    {
     "name": "stderr",
     "output_type": "stream",
     "text": [
      "You seem to be using the pipelines sequentially on GPU. In order to maximize efficiency please use a dataset\n"
     ]
    },
    {
     "name": "stdout",
     "output_type": "stream",
     "text": [
      "[INFO] Cantidad de frases: 1000\n",
      "[INFO] Tiempo total para realizar predicciones en 1000 frases (una por una): 3.910560131072998s\n",
      "[INFO] Tiempo promedio para realizar una predicción (método una a una): 0.003910560131072998\n"
     ]
    }
   ],
   "source": [
    "import time\n",
    "\n",
    "# Create 1000 sentences\n",
    "sentences_1000 = sentences * 100\n",
    "\n",
    "# Time how long it takes to make predictions on all sentences (one at a time)\n",
    "print(f\"[INFO] Cantidad de frases: {len(sentences_1000)}\")\n",
    "start_time_one_at_a_time = time.time()\n",
    "for sentence in sentences_1000:\n",
    "    # Realizar una predicción\n",
    "    food_not_food_classifier(sentence)\n",
    "end_time_one_at_a_time = time.time()\n",
    "\n",
    "total_time_one_at_a_time = end_time_one_at_a_time - start_time_one_at_a_time\n",
    "avg_time_per_pred = total_time_one_at_a_time/len(sentences_1000)\n",
    "print(f\"[INFO] Tiempo total para realizar predicciones en {len(sentences_1000)} frases (una por una): {total_time_one_at_a_time}s\")\n",
    "print(f\"[INFO] Tiempo promedio para realizar una predicción (método una a una): {avg_time_per_pred}\")"
   ]
  },
  {
   "cell_type": "code",
   "execution_count": 90,
   "id": "b885bfec-cb10-4091-80b9-4032caba80b2",
   "metadata": {},
   "outputs": [
    {
     "name": "stdout",
     "output_type": "stream",
     "text": [
      "[INFO] Number of sentences: 100\n",
      "[INFO] Tiempo total para realizar predicciones en 100 frases (batch mode): 0.104925\n",
      "[INFO] Tiempo promedio para realizar una predicción (batch mode): 0.00104925\n",
      "\n",
      "[INFO] Number of sentences: 1000\n",
      "[INFO] Tiempo total para realizar predicciones en 1000 frases (batch mode): 0.67505\n",
      "[INFO] Tiempo promedio para realizar una predicción (batch mode): 0.00067505\n",
      "\n",
      "[INFO] Number of sentences: 10000\n",
      "[INFO] Tiempo total para realizar predicciones en 10000 frases (batch mode): 6.44067\n",
      "[INFO] Tiempo promedio para realizar una predicción (batch mode): 0.00064407\n",
      "\n",
      "[INFO] Number of sentences: 100000\n",
      "[INFO] Tiempo total para realizar predicciones en 100000 frases (batch mode): 66.494505\n",
      "[INFO] Tiempo promedio para realizar una predicción (batch mode): 0.00066495\n",
      "\n"
     ]
    }
   ],
   "source": [
    "# Let's now use pipeline in batches\n",
    "for i in [10, 100, 1000, 10_000]:\n",
    "    sentences_big = sentences*i\n",
    "    print(f\"[INFO] Number of sentences: {len(sentences_big)}\")\n",
    "\n",
    "    start_time = time.time()\n",
    "    # Predict on all sentences in batch ode\n",
    "    food_not_food_classifier(sentences_big)\n",
    "    end_time = time.time()\n",
    "\n",
    "    total_time_per_all_sentences_batch_mode = end_time - start_time\n",
    "    avg_time_per_sentence_batch_mode = total_time_per_all_sentences_batch_mode/len(sentences_big)\n",
    "\n",
    "    print(f\"[INFO] Tiempo total para realizar predicciones en {len(sentences_big)} frases (batch mode): {round(total_time_per_all_sentences_batch_mode, 6)}\")\n",
    "    print(f\"[INFO] Tiempo promedio para realizar una predicción (batch mode): {round(avg_time_per_sentence_batch_mode, 8)}\")\n",
    "    print()"
   ]
  },
  {
   "cell_type": "markdown",
   "id": "9a0238a0-8f8b-4a45-a909-9b5a3643bfe9",
   "metadata": {},
   "source": [
    "### Haciendo predicciones con PyTorch\n",
    "\n",
    "Pasos para hacer predicciones con PyTorch:\n",
    "1. Crear el tokenizer con `AutoTokenizer`\n",
    "2. Crear el modelo con `AutoModel` (`AutoModelForSequenceClassification`)\n",
    "3. Tokenizar el texto con el paso 1\n",
    "4. Hacer la predicción con el paso 2\n",
    "5. Formatear la predicción"
   ]
  },
  {
   "cell_type": "code",
   "execution_count": 91,
   "id": "165b457d-527b-4b8e-b2ae-8cb7617288a3",
   "metadata": {},
   "outputs": [],
   "source": [
    "from transformers import AutoTokenizer\n",
    "\n",
    "# Setup the model path\n",
    "model_path = \"tonicanada/learn_hf_food_not_food_text_classifier-distilbert-base-uncased\"\n",
    "\n",
    "# Create an example to predict on\n",
    "sample_food_text = \"A delicious photo of a plate of scrambled eggs, toast an bacon\"\n",
    "\n",
    "# Prepare the tokenizer\n",
    "tokenizer = AutoTokenizer.from_pretrained(pretrained_model_name_or_path=model_path)\n",
    "inputs = tokenizer(sample_food_text,\n",
    "                   return_tensors=\"pt\") # \"pt\" stands for PyTorch"
   ]
  },
  {
   "cell_type": "code",
   "execution_count": 92,
   "id": "ef4e353d-4b6e-4e9b-8f17-031dd22fbd1e",
   "metadata": {},
   "outputs": [
    {
     "data": {
      "text/plain": [
       "DistilBertForSequenceClassification(\n",
       "  (distilbert): DistilBertModel(\n",
       "    (embeddings): Embeddings(\n",
       "      (word_embeddings): Embedding(30522, 768, padding_idx=0)\n",
       "      (position_embeddings): Embedding(512, 768)\n",
       "      (LayerNorm): LayerNorm((768,), eps=1e-12, elementwise_affine=True)\n",
       "      (dropout): Dropout(p=0.1, inplace=False)\n",
       "    )\n",
       "    (transformer): Transformer(\n",
       "      (layer): ModuleList(\n",
       "        (0-5): 6 x TransformerBlock(\n",
       "          (attention): MultiHeadSelfAttention(\n",
       "            (dropout): Dropout(p=0.1, inplace=False)\n",
       "            (q_lin): Linear(in_features=768, out_features=768, bias=True)\n",
       "            (k_lin): Linear(in_features=768, out_features=768, bias=True)\n",
       "            (v_lin): Linear(in_features=768, out_features=768, bias=True)\n",
       "            (out_lin): Linear(in_features=768, out_features=768, bias=True)\n",
       "          )\n",
       "          (sa_layer_norm): LayerNorm((768,), eps=1e-12, elementwise_affine=True)\n",
       "          (ffn): FFN(\n",
       "            (dropout): Dropout(p=0.1, inplace=False)\n",
       "            (lin1): Linear(in_features=768, out_features=3072, bias=True)\n",
       "            (lin2): Linear(in_features=3072, out_features=768, bias=True)\n",
       "            (activation): GELUActivation()\n",
       "          )\n",
       "          (output_layer_norm): LayerNorm((768,), eps=1e-12, elementwise_affine=True)\n",
       "        )\n",
       "      )\n",
       "    )\n",
       "  )\n",
       "  (pre_classifier): Linear(in_features=768, out_features=768, bias=True)\n",
       "  (classifier): Linear(in_features=768, out_features=2, bias=True)\n",
       "  (dropout): Dropout(p=0.2, inplace=False)\n",
       ")"
      ]
     },
     "execution_count": 92,
     "metadata": {},
     "output_type": "execute_result"
    }
   ],
   "source": [
    "from transformers import AutoModelForSequenceClassification\n",
    "\n",
    "# Load our text classification model\n",
    "model = AutoModelForSequenceClassification.from_pretrained(pretrained_model_name_or_path=model_path)\n",
    "model"
   ]
  },
  {
   "cell_type": "code",
   "execution_count": 93,
   "id": "1bf38126-3ec4-4cd5-8f4c-a249120ae62c",
   "metadata": {},
   "outputs": [
    {
     "data": {
      "text/plain": [
       "SequenceClassifierOutput(loss=None, logits=tensor([[-3.4358,  3.8867]]), hidden_states=None, attentions=None)"
      ]
     },
     "execution_count": 93,
     "metadata": {},
     "output_type": "execute_result"
    }
   ],
   "source": [
    "import torch\n",
    "\n",
    "model.eval()\n",
    "# with torch.no_grad()\n",
    "\n",
    "with torch.inference_mode():\n",
    "    outputs = model(**inputs)\n",
    "\n",
    "outputs"
   ]
  },
  {
   "cell_type": "code",
   "execution_count": 94,
   "id": "7a4e54c7-87b5-4de2-8e38-d18fd3bf28cc",
   "metadata": {},
   "outputs": [
    {
     "name": "stdout",
     "output_type": "stream",
     "text": [
      "Texto: A delicious photo of a plate of scrambled eggs, toast an bacon\n",
      "Etiqueta predecida: food\n",
      "Probabilidad de predicción: 0.9993398785591125\n"
     ]
    }
   ],
   "source": [
    "# Convierte logits en prediction probability + label\n",
    "predicted_class_id = outputs.logits.argmax().item()\n",
    "prediction_probability = torch.softmax(outputs.logits, dim=1).max().item()\n",
    "\n",
    "print(f\"Texto: {sample_food_text}\")\n",
    "print(f\"Etiqueta predecida: {model.config.id2label[predicted_class_id]}\")\n",
    "print(f\"Probabilidad de predicción: {prediction_probability}\")"
   ]
  },
  {
   "cell_type": "code",
   "execution_count": 95,
   "id": "9e4330bb-e4d0-4f73-b2f1-7321f73e7ca3",
   "metadata": {},
   "outputs": [
    {
     "data": {
      "text/plain": [
       "[[{'label': 'food', 'score': 0.9993398785591125}]]"
      ]
     },
     "execution_count": 95,
     "metadata": {},
     "output_type": "execute_result"
    }
   ],
   "source": [
    "food_not_food_classifier(sample_food_text)"
   ]
  },
  {
   "cell_type": "markdown",
   "id": "6fb7860b-2341-4102-a6b0-59157e6571e6",
   "metadata": {},
   "source": [
    "## Proceso completo\n",
    "\n",
    "Vamos a repasar el proceso principio a fin.\n",
    "\n",
    "Desde la importación de los datos, pasando por la construcción del modelo, la evaluación del modelo hasta el guardado del modelo para nuestro proyecto de clasificación de texto."
   ]
  },
  {
   "cell_type": "code",
   "execution_count": 108,
   "id": "2e489ffe-32f4-4bc2-a549-cf7bb85058ec",
   "metadata": {},
   "outputs": [
    {
     "data": {
      "text/plain": [
       "True"
      ]
     },
     "execution_count": 108,
     "metadata": {},
     "output_type": "execute_result"
    }
   ],
   "source": [
    "from dotenv import load_dotenv\n",
    "import os\n",
    "\n",
    "load_dotenv()"
   ]
  },
  {
   "cell_type": "code",
   "execution_count": 109,
   "id": "62b310e2-c2ce-44bf-a7bc-643bee19c59a",
   "metadata": {},
   "outputs": [
    {
     "name": "stdout",
     "output_type": "stream",
     "text": [
      "[INFO] Creando carpeta para guardar los modelos: models/learn_hf_food_not_food_text_classifier-distilbert-base-uncased\n",
      "[INFO] Descargando dataset de Hugging Face Hub, nombre: mrdbourke/learn_hf_food_not_food_image_captions\n",
      "[INFO] Tokenizing text for model training with tokenizer: distilbert/distilbert-base-uncased\n",
      "[INFO] Cargando modelo: distilbert/distilbert-base-uncased\n"
     ]
    },
    {
     "name": "stderr",
     "output_type": "stream",
     "text": [
      "Some weights of DistilBertForSequenceClassification were not initialized from the model checkpoint at distilbert/distilbert-base-uncased and are newly initialized: ['classifier.bias', 'classifier.weight', 'pre_classifier.bias', 'pre_classifier.weight']\n",
      "You should probably TRAIN this model on a down-stream task to be able to use it for predictions and inference.\n"
     ]
    },
    {
     "name": "stdout",
     "output_type": "stream",
     "text": [
      "[INFO] ¡Modelo cargado correctamente!!\n",
      "[INFO] Empezando entrenamiento de modelo...\n"
     ]
    },
    {
     "data": {
      "text/html": [
       "\n",
       "    <div>\n",
       "      \n",
       "      <progress value='70' max='70' style='width:300px; height:20px; vertical-align: middle;'></progress>\n",
       "      [70/70 00:14, Epoch 10/10]\n",
       "    </div>\n",
       "    <table border=\"1\" class=\"dataframe\">\n",
       "  <thead>\n",
       " <tr style=\"text-align: left;\">\n",
       "      <th>Epoch</th>\n",
       "      <th>Training Loss</th>\n",
       "      <th>Validation Loss</th>\n",
       "      <th>Accuracy</th>\n",
       "    </tr>\n",
       "  </thead>\n",
       "  <tbody>\n",
       "    <tr>\n",
       "      <td>1</td>\n",
       "      <td>0.330000</td>\n",
       "      <td>0.038647</td>\n",
       "      <td>1.000000</td>\n",
       "    </tr>\n",
       "    <tr>\n",
       "      <td>2</td>\n",
       "      <td>0.018400</td>\n",
       "      <td>0.005521</td>\n",
       "      <td>1.000000</td>\n",
       "    </tr>\n",
       "    <tr>\n",
       "      <td>3</td>\n",
       "      <td>0.003800</td>\n",
       "      <td>0.002027</td>\n",
       "      <td>1.000000</td>\n",
       "    </tr>\n",
       "    <tr>\n",
       "      <td>4</td>\n",
       "      <td>0.001700</td>\n",
       "      <td>0.001192</td>\n",
       "      <td>1.000000</td>\n",
       "    </tr>\n",
       "    <tr>\n",
       "      <td>5</td>\n",
       "      <td>0.001100</td>\n",
       "      <td>0.000859</td>\n",
       "      <td>1.000000</td>\n",
       "    </tr>\n",
       "    <tr>\n",
       "      <td>6</td>\n",
       "      <td>0.000900</td>\n",
       "      <td>0.000706</td>\n",
       "      <td>1.000000</td>\n",
       "    </tr>\n",
       "    <tr>\n",
       "      <td>7</td>\n",
       "      <td>0.000700</td>\n",
       "      <td>0.000624</td>\n",
       "      <td>1.000000</td>\n",
       "    </tr>\n",
       "    <tr>\n",
       "      <td>8</td>\n",
       "      <td>0.000700</td>\n",
       "      <td>0.000579</td>\n",
       "      <td>1.000000</td>\n",
       "    </tr>\n",
       "    <tr>\n",
       "      <td>9</td>\n",
       "      <td>0.000600</td>\n",
       "      <td>0.000555</td>\n",
       "      <td>1.000000</td>\n",
       "    </tr>\n",
       "    <tr>\n",
       "      <td>10</td>\n",
       "      <td>0.000600</td>\n",
       "      <td>0.000547</td>\n",
       "      <td>1.000000</td>\n",
       "    </tr>\n",
       "  </tbody>\n",
       "</table><p>"
      ],
      "text/plain": [
       "<IPython.core.display.HTML object>"
      ]
     },
     "metadata": {},
     "output_type": "display_data"
    },
    {
     "name": "stdout",
     "output_type": "stream",
     "text": [
      "[INFO] Entrenamiento completado, guardando modelo en siguiente carpeta local: models/learn_hf_food_not_food_text_classifier-distilbert-base-uncased\n",
      "[INFO] Subiendo modelo a Hugging Face Hub...\n"
     ]
    },
    {
     "name": "stderr",
     "output_type": "stream",
     "text": [
      "training_args.bin: 100%|███████████████████| 5.30k/5.30k [00:00<00:00, 7.41kB/s]\n"
     ]
    },
    {
     "name": "stdout",
     "output_type": "stream",
     "text": [
      "[INFO] Modelo subido con éxito, disponible en https://huggingface.co/tonicanada/learn_hf_food_not_food_text_classifier-distilbert-base-uncased/tree/main/\n",
      "[INFO] Realizando evaluación en test dataset...\n"
     ]
    },
    {
     "data": {
      "text/html": [],
      "text/plain": [
       "<IPython.core.display.HTML object>"
      ]
     },
     "metadata": {},
     "output_type": "display_data"
    },
    {
     "name": "stdout",
     "output_type": "stream",
     "text": [
      "[INFO] Métricas de predicción en test data:\n",
      "{'test_accuracy': 1.0,\n",
      " 'test_loss': 0.0005472198827192187,\n",
      " 'test_runtime': 0.0564,\n",
      " 'test_samples_per_second': 886.989,\n",
      " 'test_steps_per_second': 35.48}\n"
     ]
    }
   ],
   "source": [
    "# 1. Importamos las librerías necesarias\n",
    "import pprint\n",
    "from pathlib import Path\n",
    "import os\n",
    "\n",
    "import numpy as np\n",
    "import torch\n",
    "\n",
    "import datasets\n",
    "import evaluate\n",
    "\n",
    "from transformers import pipeline\n",
    "from transformers import TrainingArguments, Trainer\n",
    "from transformers import AutoTokenizer, AutoModelForSequenceClassification\n",
    "\n",
    "# 2. Configuramos variables para model training y saving pipeline\n",
    "DATASET_NAME = \"mrdbourke/learn_hf_food_not_food_image_captions\"\n",
    "MODEL_NAME = \"distilbert/distilbert-base-uncased\"\n",
    "MODEL_SAVE_DIR_NAME = \"models/learn_hf_food_not_food_text_classifier-distilbert-base-uncased\"\n",
    "\n",
    "# 3. Creamos directorio para salvar los modelos\n",
    "print(f\"[INFO] Creando carpeta para guardar los modelos: {MODEL_SAVE_DIR_NAME}\")\n",
    "model_save_dir = Path(MODEL_SAVE_DIR_NAME)\n",
    "model_save_dir.mkdir(parents=True, exist_ok=True)\n",
    "\n",
    "# 4. Cargamos y preprocesamos el dataset desde Hugging Face Hub\n",
    "print(f\"[INFO] Descargando dataset de Hugging Face Hub, nombre: {DATASET_NAME}\")\n",
    "dataset = datasets.load_dataset(DATASET_NAME)\n",
    "\n",
    "id2label = {0: \"not_food\", 1: \"food\"}\n",
    "label2id  = {\"not_food\": 0, \"food\": 1}\n",
    "\n",
    "# Creando función para mapear id a etiquetas en el dataset \n",
    "def map_labels_to_number(example):\n",
    "    example[\"label\"] = label2id[example[\"label\"]]\n",
    "    return example\n",
    "\n",
    "# Mapear la función en todo el dataset\n",
    "dataset = dataset['train'].map(map_labels_to_number)\n",
    "\n",
    "# Dividimos el dataset en train/test sets\n",
    "dataset = dataset.train_test_split(test_size=0.2, seed=42)\n",
    "\n",
    "# 5. Importamos tokenizer y lo mapeamos en todo el dataset\n",
    "print(f\"[INFO] Tokenizing text for model training with tokenizer: {MODEL_NAME}\")\n",
    "tokenizer = AutoTokenizer.from_pretrained(pretrained_model_name_or_path=MODEL_NAME,\n",
    "                                          use_fast=True)\n",
    "\n",
    "# Creamos función para tokenizar ejemplos\n",
    "def tokenize_text(examples):\n",
    "    return tokenizer(examples['text'],\n",
    "                     padding=True,\n",
    "                     truncation=True)\n",
    "\n",
    "tokenized_dataset = dataset.map(function=tokenize_text,\n",
    "                                batched=True,\n",
    "                                batch_size=1000)\n",
    "                     \n",
    "# 6. Definimos una métrica de evaluación\n",
    "accuracy_metric = evaluate.load(\"accuracy\")\n",
    "\n",
    "def compute_accuracy(predictions_and_labels):\n",
    "    predictions, labels = predictions_and_labels\n",
    "\n",
    "    # El modelo tendrá outputs logits de la siguiente forma ([[item_n, item_n], [item_m, item_m]]) \n",
    "    # dependiendo del número de clases que tenga el problema\n",
    "    # Queramos comparar etiquetas que están en la forma ([0,0,0,1])\n",
    "    if len(predictions.shape) >= 2:\n",
    "        predictions = np.argmax(predictions, axis=1)\n",
    "\n",
    "    return accuracy_metric.compute(predictions=predictions, references=labels)\n",
    "    \n",
    "# 7. Seteamos un modelo\n",
    "print(f\"[INFO] Cargando modelo: {MODEL_NAME}\")\n",
    "model = AutoModelForSequenceClassification.from_pretrained(\n",
    "    pretrained_model_name_or_path=MODEL_NAME,\n",
    "    num_labels=2,\n",
    "    id2label=id2label,\n",
    "    label2id=label2id,\n",
    ")\n",
    "print(f\"[INFO] ¡Modelo cargado correctamente!!\")\n",
    "\n",
    "# Configurar TrainingArguments (estos son los hiperparámetros para nuestro modelo)\n",
    "# Hiperparámetros = configuraciones que podemos establecer como desarrolladores\n",
    "# Parámetros = configuraciones/pesos que nuestro modelo aprende por sí mismo\n",
    "training_args = TrainingArguments(\n",
    "    output_dir = model_save_dir,\n",
    "    learning_rate=0.0001,\n",
    "    per_device_eval_batch_size=32,\n",
    "    per_device_train_batch_size=32,\n",
    "    num_train_epochs=10,\n",
    "    eval_strategy=\"epoch\",\n",
    "    save_strategy=\"epoch\",\n",
    "    save_total_limit=3,\n",
    "    use_cpu=False,\n",
    "    seed=42,\n",
    "    load_best_model_at_end=True,\n",
    "    logging_strategy=\"epoch\",\n",
    "    report_to=\"none\",\n",
    "    push_to_hub=False,\n",
    "    hub_private_repo=False #Note: this will make our model public by default\n",
    ")\n",
    "\n",
    "# Creamos instancia de Trainer\n",
    "trainer = Trainer(\n",
    "    model=model,\n",
    "    args=training_args,\n",
    "    train_dataset=tokenized_dataset['train'],\n",
    "    eval_dataset=tokenized_dataset['test'],\n",
    "    tokenizer=tokenizer,\n",
    "    compute_metrics=compute_accuracy\n",
    ")\n",
    "\n",
    "# 8. Entrenamos el modelo\n",
    "print(f\"[INFO] Empezando entrenamiento de modelo...\")\n",
    "results = trainer.train()\n",
    "\n",
    "# 9. Guardamos el modelo en un directorio local\n",
    "print(f\"[INFO] Entrenamiento completado, guardando modelo en siguiente carpeta local: {model_save_dir}\")\n",
    "trainer.save_model(output_dir=model_save_dir)\n",
    "\n",
    "# 10. Subimos el modelo a Hugging Face Hub\n",
    "print(f\"[INFO] Subiendo modelo a Hugging Face Hub...\")\n",
    "model_upload_url = trainer.push_to_hub(\n",
    "    commit_message=\"Subiendo clasificador de texto (food, not food)\",\n",
    "    token=os.getenv(\"HF_TOKEN\")\n",
    ")\n",
    "print(f\"[INFO] Modelo subido con éxito, disponible en {model_upload_url}\")\n",
    "\n",
    "# 11. Evaluación delo modelo en lla test data\n",
    "print(f\"[INFO] Realizando evaluación en test dataset...\")\n",
    "predictions_all = trainer.predict(tokenized_dataset['test'])\n",
    "predictions_values = predictions_all.predictions\n",
    "predictions_metrics = predictions_all.metrics\n",
    "\n",
    "print(f\"[INFO] Métricas de predicción en test data:\")\n",
    "pprint.pprint(predictions_metrics)"
   ]
  },
  {
   "cell_type": "code",
   "execution_count": 110,
   "id": "bfa3041a-adaf-4564-a36d-22c16b14ef87",
   "metadata": {},
   "outputs": [
    {
     "data": {
      "text/plain": [
       "[[{'label': 'not_food', 'score': 0.9995301961898804}]]"
      ]
     },
     "execution_count": 110,
     "metadata": {},
     "output_type": "execute_result"
    }
   ],
   "source": [
    "# 12. Nos aseguramos que el modelo funciona con frases que no están ni en el training ni en el test set\n",
    "from transformers import pipeline\n",
    "food_not_food_classifier = pipeline(task=\"text-classification\",\n",
    "                                    model=model_save_dir,\n",
    "                                    device=torch.device(\"cuda\") if torch.cuda.is_available() else torch.device(\"cpu\"),\n",
    "                                    top_k=1,\n",
    "                                    batch_size=32)\n",
    "\n",
    "food_not_food_classifier(\"Yo!!! We just trained a model not food text classifier\")"
   ]
  },
  {
   "cell_type": "code",
   "execution_count": 111,
   "id": "3695d6cf-d29f-479c-aea0-8352a06e681e",
   "metadata": {},
   "outputs": [
    {
     "data": {
      "text/plain": [
       "[[{'label': 'food', 'score': 0.9993554949760437}]]"
      ]
     },
     "execution_count": 111,
     "metadata": {},
     "output_type": "execute_result"
    }
   ],
   "source": [
    "food_not_food_classifier(\"A bowl of sliced bell peppers with a sprinkle of paprika and a side of hummus\")"
   ]
  },
  {
   "cell_type": "code",
   "execution_count": 112,
   "id": "0233fca7-d612-4ed5-a78c-8516988cbaf7",
   "metadata": {},
   "outputs": [
    {
     "data": {
      "text/plain": [
       "[[{'label': 'food', 'score': 0.9972631931304932}]]"
      ]
     },
     "execution_count": 112,
     "metadata": {},
     "output_type": "execute_result"
    }
   ],
   "source": [
    "food_not_food_classifier(\"a pizza\")"
   ]
  },
  {
   "cell_type": "code",
   "execution_count": 113,
   "id": "cc129874-eb4b-49ae-be69-05ff3c152b52",
   "metadata": {},
   "outputs": [
    {
     "data": {
      "text/plain": [
       "[[{'label': 'food', 'score': 0.9918377995491028}]]"
      ]
     },
     "execution_count": 113,
     "metadata": {},
     "output_type": "execute_result"
    }
   ],
   "source": [
    "food_not_food_classifier(\"My favoruite food is biltong!\")"
   ]
  },
  {
   "cell_type": "code",
   "execution_count": 114,
   "id": "89ae18bb-576d-49be-a013-0ec590e9f03a",
   "metadata": {},
   "outputs": [
    {
     "data": {
      "text/plain": [
       "[[{'label': 'food', 'score': 0.9989994168281555}]]"
      ]
     },
     "execution_count": 114,
     "metadata": {},
     "output_type": "execute_result"
    }
   ],
   "source": [
    "food_not_food_classifier(\"Eggs and bakon\")"
   ]
  },
  {
   "cell_type": "markdown",
   "id": "dc4d137b-289a-424f-8fcf-dfefb74563c7",
   "metadata": {},
   "source": [
    "## Convirtiendo nuestro modelo a una demo\n",
    "\n",
    "onvertir un modelo en una demostración te ayuda a compartirlo con otros para que puedan probarlo.\n",
    "\n",
    "Y potencialmente puede ofrecer algunas ideas sobre cómo mejorar tu modelo.\n",
    "\n",
    "Vamos a crear una demostración de un modelo de aprendizaje automático con Gradio.\n",
    "\n",
    "Gradio ayuda a crear el flujo de trabajo: entradas -> Modelo de Aprendizaje Automático -> salidas."
   ]
  },
  {
   "cell_type": "markdown",
   "id": "a3616f71-c1c9-4e81-8335-94aaae121da3",
   "metadata": {},
   "source": [
    "### Creamos una función para realizar inferencias\n",
    "\n",
    "1. Tomamos un input tipo string\n",
    "2. Configuramos un pipeline de clasificación de texto\n",
    "3. Tomamos el output del pipeline\n",
    "4. Devolvemos la salida del pipeline en el paso 3 como un diccionario formateado con el siguiente formato:\n",
    "   `{\"label_1\": probability_1, \"label_2\": probability_2,...}`"
   ]
  },
  {
   "cell_type": "code",
   "execution_count": 115,
   "id": "8eb5cd57-c96e-4e0e-88e0-800d023b2247",
   "metadata": {},
   "outputs": [
    {
     "data": {
      "text/plain": [
       "{'not_food': 0.9996128678321838, 'food': 0.0003871637745760381}"
      ]
     },
     "execution_count": 115,
     "metadata": {},
     "output_type": "execute_result"
    }
   ],
   "source": [
    "from typing import Dict\n",
    "\n",
    "# 1. Creamos una función para tomar el string input\n",
    "def food_not_food_classifier(text: str) -> Dict[str, float]:\n",
    "    # 2. Seteamos el food not food classifier\n",
    "    food_not_food_classifier_pipeline = pipeline(task=\"text-classification\",\n",
    "                                        model=\"tonicanada/learn_hf_food_not_food_text_classifier-distilbert-base-uncased\",\n",
    "                                        batch_size=32,\n",
    "                                        device=\"cuda\" if torch.cuda.is_available() else \"cpu\",\n",
    "                                        top_k=None) # top_k=None => return all possible labels\n",
    "\n",
    "    # 3. Tomamos el output del pipeline\n",
    "    outputs = food_not_food_classifier_pipeline(text)[0]\n",
    "\n",
    "    # 4. Formateamos el output para Gradio\n",
    "    output_dict = {}\n",
    "    for item in outputs:\n",
    "        output_dict[item['label']]=item['score']\n",
    "    \n",
    "    return output_dict\n",
    "\n",
    "food_not_food_classifier(text=\"We're building a local demo\")"
   ]
  },
  {
   "cell_type": "markdown",
   "id": "d86cecc3-ef07-4e65-98d2-eb397d7b5ed1",
   "metadata": {},
   "source": [
    "### Construyendo una pequeña demo Grado que corra en forma local\n"
   ]
  },
  {
   "cell_type": "code",
   "execution_count": 117,
   "id": "90e8a608-edf1-418d-b454-013c11f5237e",
   "metadata": {},
   "outputs": [
    {
     "name": "stdout",
     "output_type": "stream",
     "text": [
      "* Running on local URL:  http://127.0.0.1:7862\n",
      "\n",
      "To create a public link, set `share=True` in `launch()`.\n"
     ]
    },
    {
     "data": {
      "text/html": [
       "<div><iframe src=\"http://127.0.0.1:7862/\" width=\"100%\" height=\"500\" allow=\"autoplay; camera; microphone; clipboard-read; clipboard-write;\" frameborder=\"0\" allowfullscreen></iframe></div>"
      ],
      "text/plain": [
       "<IPython.core.display.HTML object>"
      ]
     },
     "metadata": {},
     "output_type": "display_data"
    },
    {
     "data": {
      "text/plain": []
     },
     "execution_count": 117,
     "metadata": {},
     "output_type": "execute_result"
    }
   ],
   "source": [
    "# 1. Import gradio\n",
    "import gradio as gr\n",
    "\n",
    "# 2. Create a gradio interface\n",
    "demo = gr.Interface(\n",
    "    fn=food_not_food_classifier,\n",
    "    inputs=\"text\",\n",
    "    outputs=gr.Label(num_top_classes=2),\n",
    "    title=\"Food not food classifier\",\n",
    "    description=\"A text classifier to determine if a sentence is about food or not\",\n",
    "    examples=[[\"I whipped up a fresh batch of code, but it seems to have a syntax error\"],\n",
    "              [\"A plate of pancakes and strawberry icing\"]])\n",
    "\n",
    "# 3. Launch the interface\n",
    "demo.launch()\n",
    "    "
   ]
  },
  {
   "cell_type": "markdown",
   "id": "034d54fd-640d-4647-8a5f-b9bbc3ff2737",
   "metadata": {},
   "source": [
    "### Haciendo nuestra demo accesible públicamente\n",
    "\n",
    "Existen 2 formas principales de hacer nuestra demo accesible públicamente con Hugging Face Space:\n",
    "1. Manualmente - Podemos ir a hugginface.co/spaces -> \"Crear nuevo espacio\" -> agregar nuestros archivos y ¡publicar!\n",
    "2. Programáticamente - Podemos usar la API de Python de Hugging Face Hub y agregar nuestros archivos a un Space con código.\n",
    "\n",
    "Para crear un espacio programáticamente necesitaremos 3 archivos:\n",
    "1. `app.py` - Esta es la aplicación principal con la funcionalidad de nuestra demo.\n",
    "2. `requirements.txt` - Estas son las dependencias que nuestra aplicación necesitará.\n",
    "3. `README.md` - Esto explicará de qué trata nuestro proyecto/demo. También añadirá algunos metadatos en formato YAML.\n",
    "\n",
    "Para crear estos usaremos la siguiente estructura:\n",
    "\n",
    "```\n",
    "demos/\n",
    "└── food_not_food_text_classifier/\n",
    "    ├── app.py\n",
    "    ├── README.md\n",
    "    └── requirements.txt\n",
    "```"
   ]
  },
  {
   "cell_type": "markdown",
   "id": "930e6a8b-a12e-432f-8623-2a38bc174e39",
   "metadata": {},
   "source": [
    "#### Creando una carpeta para guardar la demo"
   ]
  },
  {
   "cell_type": "code",
   "execution_count": 118,
   "id": "6dc6395a-7c1b-4edd-80de-bb5ddd72e022",
   "metadata": {},
   "outputs": [],
   "source": [
    "from pathlib import Path\n",
    "\n",
    "# Make directory for demos\n",
    "demos_dir = Path(\"./demos\")\n",
    "demos_dir.mkdir(exist_ok=True)\n",
    "\n",
    "# Create a folder for the food_not_food_text_classifier demo\n",
    "food_not_food_text_classifier_demo_dir = Path(demos_dir, \"food_not_food_text_classifier\")\n",
    "food_not_food_text_classifier_demo_dir.mkdir(exist_ok=True)"
   ]
  },
  {
   "cell_type": "markdown",
   "id": "23e33d26-be3e-462c-aa5b-293896a8b2cc",
   "metadata": {},
   "source": [
    "#### Creando un archivo app.py\n",
    "\n",
    "Nuestro `app.py` contendrá la lógica principal de nuestra aplicación para ejecutarse.\n",
    "\n",
    "Cuando subimos a Hugging Face Spaces, Spaces intentará ejecutar `app.py` automáticamente.\n",
    "\n",
    "En nuestro archivo `app.py` queremos:\n",
    "1. Importar los paquetes\n",
    "2. Definir nuestra función para usar nuestro modelo (esto funcionará con Gradio)\n",
    "3. Crear una demo con Gradio\n",
    "4. Ejecutar la demo con `demo.launch`"
   ]
  },
  {
   "cell_type": "code",
   "execution_count": 119,
   "id": "820e7559-fb55-444d-b255-944a301df27a",
   "metadata": {},
   "outputs": [
    {
     "name": "stdout",
     "output_type": "stream",
     "text": [
      "Overwriting ./demos/food_not_food_text_classifier/app.py\n"
     ]
    }
   ],
   "source": [
    "%%writefile ./demos/food_not_food_text_classifier/app.py\n",
    "# 1. Importamos las librerías necesarias\n",
    "import torch\n",
    "import gradio as gr\n",
    "\n",
    "from typing import Dict\n",
    "from transformers import pipeline\n",
    "\n",
    "# 2. Deifnimos nuestra función para usar el modelo\n",
    "food_not_food_classifier = pipeline(task=\"text-classification\",\n",
    "                                    model=\"tonicanada/learn_hf_food_not_food_text_classifier-distilbert-base-uncased\",\n",
    "                                    top_k=1,\n",
    "                                    device=\"cuda\" if torch.cuda.is_available() else \"cpu\",\n",
    "                                    batch_size=32)\n",
    "\n",
    "def classify_text(text):\n",
    "    # Usa el clasificador\n",
    "    result = food_not_food_classifier(text)\n",
    "    # Ahora accedemos al primer diccionario en la primera lista\n",
    "    return result[0][0]['label'], result[0][0]['score']\n",
    "    \n",
    "\n",
    "# 3. Create a Gradio interface\n",
    "description = \"\"\"\n",
    "A text classifier to determine if a sentence is about food or not food. \n",
    "\n",
    "Fine-tuned from [DistilBERT](https://huggingface.co/distilbert/distilbert-base-uncased) on a [small dataset of food and not food text](https://huggingface.co/datasets/mrdbourke/learn_hf_food_not_food_image_captions).\n",
    "\n",
    "See [source code](https://github.com/mrdbourke/learn-huggingface/blob/main/notebooks/hugging_face_text_classification_tutorial.ipynb).\n",
    "\"\"\"\n",
    "\n",
    "demo = gr.Interface(\n",
    "    fn = classify_text,\n",
    "    inputs = \"text\",\n",
    "    outputs=[gr.Label(num_top_classes=2), gr.Textbox()],\n",
    "    title=\"🍗🚫🥑 Food or Not Food Text Classifier\",\n",
    "    description=description,\n",
    "    examples=[[\"I whipped up a fresh batch of code, but it seems to have a syntax error.\"],\n",
    "                       [\"A delicious photo of a plate of scrambled eggs, bacon and toast.\"]])\n",
    "\n",
    "\n",
    "# 4. Launch the interface\n",
    "if __name__ == \"__main__\":\n",
    "    demo.launch()"
   ]
  },
  {
   "cell_type": "markdown",
   "id": "9e1f87f0-65ab-49b3-990f-e3e7a3c93be2",
   "metadata": {},
   "source": [
    "#### Creando a README file\n",
    "\n",
    "Este archivo está en formato Markdown.  \n",
    "Con un bloque YAML en la parte superior.  \n",
    "El bloque YAML en la parte superior se utiliza para los metadatos y configuraciones."
   ]
  },
  {
   "cell_type": "code",
   "execution_count": 120,
   "id": "a6e53391-e9ee-4df1-9529-f0c2951db306",
   "metadata": {},
   "outputs": [
    {
     "name": "stdout",
     "output_type": "stream",
     "text": [
      "Overwriting ./demos/food_not_food_text_classifier/README.md\n"
     ]
    }
   ],
   "source": [
    "%%writefile ./demos/food_not_food_text_classifier/README.md\n",
    "---\n",
    "title: Food Not Food Text Classifier\n",
    "emoji: 🍗🚫🥑\n",
    "colorFrom: blue\n",
    "colorTo: yellow\n",
    "sdk: gradio\n",
    "app_file: app.py\n",
    "pinned: false\n",
    "license: apache-2.0\n",
    "---\n",
    "\n",
    "# 🍗🚫🥑 Food Not Food Text Classifier\n",
    "\n",
    "Small demo to showcase a text classifier to determine if a sentence is about food or not food.\n",
    "\n",
    "DistillBERT model fine-tuned on a small synthetic dataset of 250 generated [Food or Not Food image captions](https://huggingface.co/datasets/mrdbourke/learn_hf_food_not_food_image_captions).\n",
    "\n",
    "[Source code notebook](https://github.com/mrdbourke/learn-huggingface/blob/main/notebooks/hugging_face_text_classification_tutorial.ipynb)."
   ]
  },
  {
   "cell_type": "markdown",
   "id": "57cf1523-be75-48c9-ae87-48a12511d26c",
   "metadata": {},
   "source": [
    "#### Creando un requirements file\n",
    "\n",
    "Este archivo le indicará a nuestro Hugging Face Space qué versiones/paquetes utilizar.\n",
    "\n",
    "Si no creamos este archivo, podríamos obtener un error."
   ]
  },
  {
   "cell_type": "code",
   "execution_count": 121,
   "id": "11327b72-bb2c-4429-b65a-b7535c925d53",
   "metadata": {},
   "outputs": [
    {
     "name": "stdout",
     "output_type": "stream",
     "text": [
      "Overwriting ./demos/food_not_food_text_classifier/requirements.txt\n"
     ]
    }
   ],
   "source": [
    "%%writefile ./demos/food_not_food_text_classifier/requirements.txt\n",
    "gradio\n",
    "torch\n",
    "transformers"
   ]
  },
  {
   "cell_type": "markdown",
   "id": "8f7a4af7-8216-4880-94e7-73bce53c77cb",
   "metadata": {},
   "source": [
    "#### Subiendo nuestra demo a Hugging Face Spaces\n",
    "\n",
    "Para hacerlo, utilizaremos la API de Python de Hugging Face Hub.\n",
    "\n",
    "Para subir nuestra demo a HF Spaces, podemos hacer lo siguiente:\n",
    "1. Importar las funciones necesarias\n",
    "2. Definir lo que queremos subir + los nombres de los archivos\n",
    "3. Crear el repositorio\n",
    "4. Obtener el nombre de nuestro repositorio de nuestra carga\n",
    "5. Subir el contenido de nuestro `./demos/food_not_food_classifier/` a nuestro Hugging Face\n",
    "6. Esperar que todo funcione e inspeccionar los resultados"
   ]
  },
  {
   "cell_type": "code",
   "execution_count": 122,
   "id": "d8d943db-efe8-4905-9805-3c9ff3fffef6",
   "metadata": {},
   "outputs": [
    {
     "data": {
      "text/plain": [
       "True"
      ]
     },
     "execution_count": 122,
     "metadata": {},
     "output_type": "execute_result"
    }
   ],
   "source": [
    "from dotenv import load_dotenv\n",
    "import os\n",
    "\n",
    "load_dotenv()"
   ]
  },
  {
   "cell_type": "code",
   "execution_count": 123,
   "id": "880bcef3-114a-4c09-ab7f-06b71bd1529d",
   "metadata": {},
   "outputs": [
    {
     "name": "stdout",
     "output_type": "stream",
     "text": [
      "[INFO] Creando repo en Hugging Face Hub con nombre: learn_hf_food_not_food_text_classifier_demo\n",
      "[INFO] Nombre completo del repositorio en HF: tonicanada/learn_hf_food_not_food_text_classifier_demo\n",
      "[INFO] Subiendo ./demos/food_not_food_text_classifier/ al repo tonicanada/learn_hf_food_not_food_text_classifier_demo\n",
      "[INFO] Demo folder se ha subido con éxito, esta es la commit url: https://huggingface.co/spaces/tonicanada/learn_hf_food_not_food_text_classifier_demo/tree/main/.\n"
     ]
    }
   ],
   "source": [
    "from huggingface_hub import (\n",
    "    create_repo,\n",
    "    get_full_repo_name,\n",
    "    upload_file,\n",
    "    upload_folder\n",
    ")\n",
    "\n",
    "# Define los parámetros que nos gustaría usar para subir nuestro Space\n",
    "LOCAL_DEMO_FOLDER_PATH_TO_UPLOAD = \"./demos/food_not_food_text_classifier/\"\n",
    "HF_TARGET_SPACE_NAME = \"learn_hf_food_not_food_text_classifier_demo\"\n",
    "HF_REPO_TYPE = \"space\"\n",
    "HF_SPACE_SDK = \"gradio\"\n",
    "\n",
    "# Crea a Space repo on Hugging Face Hub\n",
    "print(f\"[INFO] Creando repo en Hugging Face Hub con nombre: {HF_TARGET_SPACE_NAME}\")\n",
    "create_repo(\n",
    "    repo_id=HF_TARGET_SPACE_NAME,\n",
    "    token=os.getenv(\"HF_TOKEN\"),\n",
    "    repo_type = HF_REPO_TYPE,\n",
    "    private=False,\n",
    "    space_sdk=HF_SPACE_SDK,\n",
    "    exist_ok=True\n",
    ")\n",
    "\n",
    "# Obtener el nombre completo del repo (e.g. {username}/{repo_name})\n",
    "hf_full_repo_name = get_full_repo_name(model_id=HF_TARGET_SPACE_NAME)\n",
    "print(f\"[INFO] Nombre completo del repositorio en HF: {hf_full_repo_name}\")\n",
    "\n",
    "# Subiendo el demo folder\n",
    "print(f\"[INFO] Subiendo {LOCAL_DEMO_FOLDER_PATH_TO_UPLOAD} al repo {hf_full_repo_name}\")\n",
    "folder_upload_url = upload_folder(\n",
    "    repo_id=hf_full_repo_name,\n",
    "    folder_path=LOCAL_DEMO_FOLDER_PATH_TO_UPLOAD,\n",
    "    path_in_repo=\".\",\n",
    "    token=os.getenv(\"HF_TOKEN\"),\n",
    "    repo_type=HF_REPO_TYPE,\n",
    "    commit_message=\"Uploading our food not food classifier demo from a notebook!\"\n",
    ")\n",
    "\n",
    "print(f\"[INFO] Demo folder se ha subido con éxito, esta es la commit url: {folder_upload_url}\")"
   ]
  },
  {
   "cell_type": "code",
   "execution_count": null,
   "id": "27cf35b7-100b-43cf-9d51-2969e97b030a",
   "metadata": {},
   "outputs": [],
   "source": []
  }
 ],
 "metadata": {
  "kernelspec": {
   "display_name": "Python 3 (ipykernel)",
   "language": "python",
   "name": "python3"
  },
  "language_info": {
   "codemirror_mode": {
    "name": "ipython",
    "version": 3
   },
   "file_extension": ".py",
   "mimetype": "text/x-python",
   "name": "python",
   "nbconvert_exporter": "python",
   "pygments_lexer": "ipython3",
   "version": "3.11.5"
  }
 },
 "nbformat": 4,
 "nbformat_minor": 5
}
